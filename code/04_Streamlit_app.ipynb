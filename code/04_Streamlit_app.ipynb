{
 "cells": [
  {
   "cell_type": "markdown",
   "metadata": {},
   "source": [
    "# Notebook 4: Streamlit App Development"
   ]
  },
  {
   "cell_type": "markdown",
   "metadata": {},
   "source": [
    "Welcome to Notebook 4! In this notebook we build a streamlit app that could be used as a first step non-medical diagnostic tool. The model that we bring in here from a previously pickled item is the log reg with tfidf production model explained in Notebook 3."
   ]
  },
  {
   "cell_type": "code",
   "execution_count": 1,
   "metadata": {},
   "outputs": [
    {
     "name": "stderr",
     "output_type": "stream",
     "text": [
      "2021-03-04 17:17:12.096 WARNING root: \n",
      "  \u001b[33m\u001b[1mWarning:\u001b[0m to view this Streamlit app on a browser, run it with the following\n",
      "  command:\n",
      "\n",
      "    streamlit run /Users/ae-j/opt/anaconda3/lib/python3.8/site-packages/ipykernel_launcher.py [ARGUMENTS]\n"
     ]
    }
   ],
   "source": [
    "## This code comes from the streamlit_lesson from Caroline modified to fit my needs here\n",
    "\n",
    "import matplotlib.pyplot as plt\n",
    "import pandas as pd\n",
    "import pickle\n",
    "import streamlit as st\n",
    "from nltk.sentiment.vader import SentimentIntensityAnalyzer\n",
    "\n",
    "\n",
    "st.set_page_config(\n",
    "    page_icon='📖',\n",
    "    initial_sidebar_state='expanded'\n",
    ")\n",
    "\n",
    "st.title('Anxiety and OCD')\n",
    "\n",
    "st.write('Use the sidebar to select a page to view.')\n",
    "\n",
    "page = st.sidebar.selectbox(\n",
    "    'Page',\n",
    "    ('About', 'Diagnostic Suggestion Tool')\n",
    ")\n",
    "\n",
    "if page == 'About':\n",
    "    st.subheader('About this project')\n",
    "    st.write('''\n",
    "This is a Streamlit app that hosts a non-medical diagnostic 'suggestion' that uses Natural Langauge Processing to give the user a sense of whether they are more likely to have OCD or Anxiety Disorders.\n",
    "The model was generated using 1200 posts each from r/OCD and r/Anxiety subreddits from reddit.com.\n",
    "The best model I found to make this diagnostic tool was a Logistic Regression model with tfidf vectorization of the text.\n",
    "Please keep in mind this is NOT A MEDICAL DIAGNOSTIC TOOL and does not replace genuine medical advice.\n",
    "Our aim is that people would use this tool as a jump off point to do further research and ultimately to consult a medical professional.\n",
    "    ''')\n",
    "\n",
    "elif page == 'Diagnostic Suggestion Tool':\n",
    "    st.subheader('Based on your response, are you more likely to have OCD or Anxiety?')\n",
    "\n",
    "    st.write('''\n",
    "Enter some text to make a prediction!\n",
    "The text might visually cut off, but you can write up to 1,000 characters.\n",
    "    ''')\n",
    "\n",
    "    # filepath different b/c solution code\n",
    "    with open('./models/ocd_pipe.pkl', 'rb') as pickle_in:\n",
    "        pipe = pickle.load(pickle_in)\n",
    "\n",
    "    your_text = st.text_input(\n",
    "        label='Tell us about your internal mental environment on days/at times when you feel off balance.',\n",
    "        value='My internal mental environment is ...',\n",
    "        max_chars=1000)\n",
    "    if pipe.predict([your_text])[0] == 0:\n",
    "        disorder = 'Anxiety'\n",
    "    else:\n",
    "        disorder = 'OCD'\n",
    "    st.subheader('Results:')\n",
    "    st.write(f'Based on your response you may be interested in doing further research into: {disorder}.')\n",
    "    \n",
    "    sia = SentimentIntensityAnalyzer()\n",
    "    polarity = sia.polarity_scores(your_text)\n",
    "    just_compound = polarity.get('compound')\n",
    "    st.subheader('Sentiment:')\n",
    "    st.write(f'Based on your response it seems: {just_compound} where 1 is fully positive, 0 is neutral and 1 is wholly negative. Obviously given the prompt you would expect a score less than 0.')"
   ]
  },
  {
   "cell_type": "code",
   "execution_count": null,
   "metadata": {},
   "outputs": [],
   "source": []
  }
 ],
 "metadata": {
  "kernelspec": {
   "display_name": "Python 3",
   "language": "python",
   "name": "python3"
  },
  "language_info": {
   "codemirror_mode": {
    "name": "ipython",
    "version": 3
   },
   "file_extension": ".py",
   "mimetype": "text/x-python",
   "name": "python",
   "nbconvert_exporter": "python",
   "pygments_lexer": "ipython3",
   "version": "3.8.5"
  }
 },
 "nbformat": 4,
 "nbformat_minor": 4
}
