{
 "cells": [
  {
   "cell_type": "markdown",
   "metadata": {},
   "source": [
    "# Notebook 3: Preprocessing, Modeling and Evaluation"
   ]
  },
  {
   "cell_type": "markdown",
   "metadata": {},
   "source": [
    "Welcome to Notebook 3! In this notebook we develop three models with both CountVectorization and Tfidf Vectorization (six total models) in order to predict whether combined title + selftext posts come from OCD or Anxiety subreddits. Throughout the model pipelines we offer the gridsearch the opportunity to select words from our own stop words list that was developed in the previous notebook. \n",
    "\n",
    "After model development we take the best model (the logistic regression with tfidf vectorization) and look at posts that we misclassified. We create a separate stopwords classification with all of these words and feed them back into the parameters. When given the choice the model does not select from this stopword list. When not given the choice (between none, english and my_stopwords3) and only my_stopwords3 the accuracty decreases. Next, we pickle the log reg tfidf pipeline and pass it onto Notebook 4 to create a streamlit app.\n",
    "\n",
    "We evaluate the performance of the models in each step and end with our conclusions."
   ]
  },
  {
   "cell_type": "markdown",
   "metadata": {},
   "source": [
    "### Making Imports"
   ]
  },
  {
   "cell_type": "code",
   "execution_count": 1,
   "metadata": {},
   "outputs": [],
   "source": [
    "import pandas as pd\n",
    "import numpy as np\n",
    "import matplotlib.pyplot as plt\n",
    "import seaborn as sns\n",
    "\n",
    "from sklearn.model_selection import train_test_split, GridSearchCV, cross_val_score\n",
    "from sklearn.pipeline import Pipeline\n",
    "from sklearn.naive_bayes import MultinomialNB\n",
    "from sklearn.linear_model import LogisticRegression\n",
    "from sklearn.metrics import confusion_matrix, plot_confusion_matrix\n",
    "from sklearn.feature_extraction.text import CountVectorizer, TfidfVectorizer\n",
    "from sklearn.ensemble import RandomForestClassifier\n",
    "from nltk.sentiment.vader import SentimentIntensityAnalyzer"
   ]
  },
  {
   "cell_type": "markdown",
   "metadata": {},
   "source": [
    "### Reading in CSV "
   ]
  },
  {
   "cell_type": "code",
   "execution_count": 2,
   "metadata": {},
   "outputs": [],
   "source": [
    "df = pd.read_csv('./data/after_eda.csv')"
   ]
  },
  {
   "cell_type": "markdown",
   "metadata": {},
   "source": [
    "### Mapping 0's and 1"
   ]
  },
  {
   "cell_type": "code",
   "execution_count": 3,
   "metadata": {},
   "outputs": [],
   "source": [
    "df['subreddit'] = df['subreddit'].map({'OCD':1, 'Anxiety':0})"
   ]
  },
  {
   "cell_type": "markdown",
   "metadata": {},
   "source": [
    "### Train/test and stopwords"
   ]
  },
  {
   "cell_type": "code",
   "execution_count": 4,
   "metadata": {},
   "outputs": [],
   "source": [
    "X = df['combined']\n",
    "y = df['subreddit']\n",
    "\n",
    "X_train, X_test, y_train, y_test = train_test_split(X, y, random_state = 42)"
   ]
  },
  {
   "cell_type": "code",
   "execution_count": 5,
   "metadata": {},
   "outputs": [],
   "source": [
    "my_stopwords2 = list(CountVectorizer(stop_words = 'english').get_stop_words()) + ['just', \n",
    "            'like', 've', 'don','really', 'things', 'deleted', 'feel', 'want', 'years', \n",
    "            'help', 'going', 'make', 'day', 'having', 'bad', 'got', 'way', \"I'm\", \"I've\", \"I'll\", \n",
    "            'n', 't', 's', 'm', 'g', 'll', \"'ll\", \"'m\", \"'ve\", 'ha', 'le', 'thing', 'u', 'wa', 'year']"
   ]
  },
  {
   "cell_type": "markdown",
   "metadata": {},
   "source": [
    "# 1. Preprocessing: Vectorizing"
   ]
  },
  {
   "cell_type": "markdown",
   "metadata": {},
   "source": [
    "## Vectorizing with Countvectorizer"
   ]
  },
  {
   "cell_type": "code",
   "execution_count": 6,
   "metadata": {},
   "outputs": [],
   "source": [
    "# cvec = CountVectorizer(stop_words = my_stopwords2)\n",
    "\n",
    "# cvec.fit(X_train)\n",
    "# X_train_cv = cvec.transform(X_train)\n",
    "# X_test_cv = cvec.transform(X_test)\n",
    "# X_train_cv_df = pd.DataFrame(X_train_cv.todense(), columns = cvec.get_feature_names())\n",
    "# X_test_cv_df = pd.DataFrame(X_test_cv.todense(), columns = cvec.get_feature_names())"
   ]
  },
  {
   "cell_type": "code",
   "execution_count": 7,
   "metadata": {
    "collapsed": true,
    "jupyter": {
     "outputs_hidden": true
    }
   },
   "outputs": [
    {
     "data": {
      "text/html": [
       "<div>\n",
       "<style scoped>\n",
       "    .dataframe tbody tr th:only-of-type {\n",
       "        vertical-align: middle;\n",
       "    }\n",
       "\n",
       "    .dataframe tbody tr th {\n",
       "        vertical-align: top;\n",
       "    }\n",
       "\n",
       "    .dataframe thead th {\n",
       "        text-align: right;\n",
       "    }\n",
       "</style>\n",
       "<table border=\"1\" class=\"dataframe\">\n",
       "  <thead>\n",
       "    <tr style=\"text-align: right;\">\n",
       "      <th></th>\n",
       "      <th>00</th>\n",
       "      <th>000</th>\n",
       "      <th>000000000001</th>\n",
       "      <th>00am</th>\n",
       "      <th>00pm</th>\n",
       "      <th>01</th>\n",
       "      <th>03</th>\n",
       "      <th>039</th>\n",
       "      <th>05</th>\n",
       "      <th>053</th>\n",
       "      <th>...</th>\n",
       "      <th>zaps</th>\n",
       "      <th>zero</th>\n",
       "      <th>ziploc</th>\n",
       "      <th>zipped</th>\n",
       "      <th>zofran</th>\n",
       "      <th>zoloft</th>\n",
       "      <th>zombie</th>\n",
       "      <th>zone</th>\n",
       "      <th>zoned</th>\n",
       "      <th>zyprexa</th>\n",
       "    </tr>\n",
       "  </thead>\n",
       "  <tbody>\n",
       "    <tr>\n",
       "      <th>0</th>\n",
       "      <td>0</td>\n",
       "      <td>0</td>\n",
       "      <td>0</td>\n",
       "      <td>0</td>\n",
       "      <td>0</td>\n",
       "      <td>0</td>\n",
       "      <td>0</td>\n",
       "      <td>0</td>\n",
       "      <td>0</td>\n",
       "      <td>0</td>\n",
       "      <td>...</td>\n",
       "      <td>0</td>\n",
       "      <td>0</td>\n",
       "      <td>0</td>\n",
       "      <td>0</td>\n",
       "      <td>0</td>\n",
       "      <td>0</td>\n",
       "      <td>0</td>\n",
       "      <td>0</td>\n",
       "      <td>0</td>\n",
       "      <td>0</td>\n",
       "    </tr>\n",
       "    <tr>\n",
       "      <th>1</th>\n",
       "      <td>0</td>\n",
       "      <td>0</td>\n",
       "      <td>0</td>\n",
       "      <td>0</td>\n",
       "      <td>0</td>\n",
       "      <td>0</td>\n",
       "      <td>0</td>\n",
       "      <td>0</td>\n",
       "      <td>0</td>\n",
       "      <td>0</td>\n",
       "      <td>...</td>\n",
       "      <td>0</td>\n",
       "      <td>0</td>\n",
       "      <td>0</td>\n",
       "      <td>0</td>\n",
       "      <td>0</td>\n",
       "      <td>0</td>\n",
       "      <td>0</td>\n",
       "      <td>0</td>\n",
       "      <td>0</td>\n",
       "      <td>0</td>\n",
       "    </tr>\n",
       "    <tr>\n",
       "      <th>2</th>\n",
       "      <td>0</td>\n",
       "      <td>0</td>\n",
       "      <td>0</td>\n",
       "      <td>0</td>\n",
       "      <td>0</td>\n",
       "      <td>0</td>\n",
       "      <td>0</td>\n",
       "      <td>0</td>\n",
       "      <td>0</td>\n",
       "      <td>0</td>\n",
       "      <td>...</td>\n",
       "      <td>0</td>\n",
       "      <td>0</td>\n",
       "      <td>0</td>\n",
       "      <td>0</td>\n",
       "      <td>0</td>\n",
       "      <td>0</td>\n",
       "      <td>0</td>\n",
       "      <td>0</td>\n",
       "      <td>0</td>\n",
       "      <td>0</td>\n",
       "    </tr>\n",
       "    <tr>\n",
       "      <th>3</th>\n",
       "      <td>0</td>\n",
       "      <td>0</td>\n",
       "      <td>0</td>\n",
       "      <td>0</td>\n",
       "      <td>0</td>\n",
       "      <td>0</td>\n",
       "      <td>0</td>\n",
       "      <td>0</td>\n",
       "      <td>0</td>\n",
       "      <td>0</td>\n",
       "      <td>...</td>\n",
       "      <td>0</td>\n",
       "      <td>0</td>\n",
       "      <td>0</td>\n",
       "      <td>0</td>\n",
       "      <td>0</td>\n",
       "      <td>0</td>\n",
       "      <td>0</td>\n",
       "      <td>0</td>\n",
       "      <td>0</td>\n",
       "      <td>0</td>\n",
       "    </tr>\n",
       "    <tr>\n",
       "      <th>4</th>\n",
       "      <td>0</td>\n",
       "      <td>0</td>\n",
       "      <td>0</td>\n",
       "      <td>0</td>\n",
       "      <td>0</td>\n",
       "      <td>0</td>\n",
       "      <td>0</td>\n",
       "      <td>0</td>\n",
       "      <td>0</td>\n",
       "      <td>0</td>\n",
       "      <td>...</td>\n",
       "      <td>0</td>\n",
       "      <td>0</td>\n",
       "      <td>0</td>\n",
       "      <td>0</td>\n",
       "      <td>0</td>\n",
       "      <td>0</td>\n",
       "      <td>0</td>\n",
       "      <td>0</td>\n",
       "      <td>0</td>\n",
       "      <td>0</td>\n",
       "    </tr>\n",
       "  </tbody>\n",
       "</table>\n",
       "<p>5 rows × 11024 columns</p>\n",
       "</div>"
      ],
      "text/plain": [
       "   00  000  000000000001  00am  00pm  01  03  039  05  053  ...  zaps  zero  \\\n",
       "0   0    0             0     0     0   0   0    0   0    0  ...     0     0   \n",
       "1   0    0             0     0     0   0   0    0   0    0  ...     0     0   \n",
       "2   0    0             0     0     0   0   0    0   0    0  ...     0     0   \n",
       "3   0    0             0     0     0   0   0    0   0    0  ...     0     0   \n",
       "4   0    0             0     0     0   0   0    0   0    0  ...     0     0   \n",
       "\n",
       "   ziploc  zipped  zofran  zoloft  zombie  zone  zoned  zyprexa  \n",
       "0       0       0       0       0       0     0      0        0  \n",
       "1       0       0       0       0       0     0      0        0  \n",
       "2       0       0       0       0       0     0      0        0  \n",
       "3       0       0       0       0       0     0      0        0  \n",
       "4       0       0       0       0       0     0      0        0  \n",
       "\n",
       "[5 rows x 11024 columns]"
      ]
     },
     "execution_count": 7,
     "metadata": {},
     "output_type": "execute_result"
    }
   ],
   "source": [
    "# X_train_cv_df.head()"
   ]
  },
  {
   "cell_type": "markdown",
   "metadata": {},
   "source": [
    "## Vectorizing with Tfidf"
   ]
  },
  {
   "cell_type": "markdown",
   "metadata": {},
   "source": [
    "This will be useful for use in the random forest. "
   ]
  },
  {
   "cell_type": "code",
   "execution_count": 10,
   "metadata": {},
   "outputs": [],
   "source": [
    "# tvec = TfidfVectorizer(stop_words = my_stopwords2)\n",
    "\n",
    "# tvec.fit(X_train)\n",
    "# X_train_tf = tvec.transform(X_train)\n",
    "# X_test_tf = tvec.transform(X_test)\n",
    "# X_train_tf_df = pd.DataFrame(X_train_tf.todense(), columns = tvec.get_feature_names())\n",
    "# X_test_tf_df = pd.DataFrame(X_test_tf.todense(), columns = tvec.get_feature_names())\n",
    "\n",
    "# X_train_tf_df"
   ]
  },
  {
   "cell_type": "markdown",
   "metadata": {},
   "source": [
    "# 2. Modeling"
   ]
  },
  {
   "cell_type": "markdown",
   "metadata": {},
   "source": [
    "# Baseline Model"
   ]
  },
  {
   "cell_type": "markdown",
   "metadata": {},
   "source": [
    "Given that we have pulled the same number of observations from each dataset and removed no observations in the cleaning process a .5 baseline is what we should expect."
   ]
  },
  {
   "cell_type": "code",
   "execution_count": 11,
   "metadata": {},
   "outputs": [
    {
     "data": {
      "text/plain": [
       "1    0.5\n",
       "0    0.5\n",
       "Name: subreddit, dtype: float64"
      ]
     },
     "execution_count": 11,
     "metadata": {},
     "output_type": "execute_result"
    }
   ],
   "source": [
    "y.value_counts(normalize=True)"
   ]
  },
  {
   "cell_type": "markdown",
   "metadata": {},
   "source": [
    "# Model 1: Logistic Regression"
   ]
  },
  {
   "cell_type": "markdown",
   "metadata": {},
   "source": [
    "Below we have two Logistic Regression models, both in pipelines with gridsearch. The first uses CountVector vectorized data and the other uses Tfidf vectorized data. Both performed extremely well in comparison to baseline and far exceeded expectations given the potential for misdiagnosis of these two disorders.\n",
    "\n",
    "Both models were overfit but the log reg with tfidf was less so with a train test score of .956 and .908 respectively. The cvec performed slightly better on test .913, but was more significantly overfit with .996. These accuracy scores were the highest of all the models and given that the log reg with tfidf was slightly less overfit, even though it was .005 less accurate, it was chosen as the production model. "
   ]
  },
  {
   "cell_type": "markdown",
   "metadata": {},
   "source": [
    "## M1.1 LogReg with cvec"
   ]
  },
  {
   "cell_type": "code",
   "execution_count": 12,
   "metadata": {},
   "outputs": [],
   "source": [
    "## Code from 5.04 modified to fit needs\n",
    "pipe_lr_cv = Pipeline([\n",
    "    ('cvec', CountVectorizer()),\n",
    "    ('log_reg', LogisticRegression(solver='liblinear'))\n",
    "])\n",
    "\n",
    "pipe_lr_cv_params = {\n",
    "    'cvec__max_features': [2_000, 3_000, 4_000, 5_000],\n",
    "    'cvec__stop_words': [None, 'english', my_stopwords2],\n",
    "    'cvec__ngram_range': [(1,1), (1,2)]\n",
    "}\n",
    "pipe_lr_cv.fit(X_train, y_train)\n",
    "gs_lr_cv = GridSearchCV(pipe_lr_cv, \n",
    "                        param_grid = pipe_lr_cv_params, \n",
    "                        cv=5)\n",
    "\n",
    "gs_lr_cv.fit(X_train, y_train);"
   ]
  },
  {
   "cell_type": "code",
   "execution_count": 13,
   "metadata": {},
   "outputs": [
    {
     "name": "stdout",
     "output_type": "stream",
     "text": [
      "0.861111111111111\n"
     ]
    },
    {
     "data": {
      "text/plain": [
       "{'cvec__max_features': 5000,\n",
       " 'cvec__ngram_range': (1, 2),\n",
       " 'cvec__stop_words': 'english'}"
      ]
     },
     "execution_count": 13,
     "metadata": {},
     "output_type": "execute_result"
    }
   ],
   "source": [
    "print(gs_lr_cv.best_score_)\n",
    "gs_lr_cv.best_params_"
   ]
  },
  {
   "cell_type": "code",
   "execution_count": 14,
   "metadata": {},
   "outputs": [
    {
     "name": "stdout",
     "output_type": "stream",
     "text": [
      "gs_lr_cv train score: 0.9961111111111111\n",
      "gs_lr_cv test score: 0.9133333333333333\n"
     ]
    }
   ],
   "source": [
    "print(f'gs_lr_cv train score: {gs_lr_cv.score(X_train, y_train)}')\n",
    "print(f'gs_lr_cv test score: {gs_lr_cv.score(X_test, y_test)}')"
   ]
  },
  {
   "cell_type": "markdown",
   "metadata": {},
   "source": [
    "### Visualizing the Most Important Words"
   ]
  },
  {
   "cell_type": "code",
   "execution_count": 15,
   "metadata": {},
   "outputs": [],
   "source": [
    "##Base code for this vis from https://towardsdatascience.com/how-to-get-feature-importances-from-any-sklearn-pipeline-167a19f1214?gi=1195fc896ccd\n",
    "\n",
    "feat_lr_cv = pipe_lr_cv.named_steps['cvec'].get_feature_names()\n",
    "\n",
    "coefs_lr_cv = pipe_lr_cv.named_steps['log_reg'].coef_.flatten()\n",
    "\n",
    "zip_lr_cv = zip(feat_lr_cv, coefs_lr_cv)\n",
    "df_lr_cv = pd.DataFrame(zip_lr_cv, columns=[\"feature\", \"coef\"])\n",
    "\n",
    "df_lr_cv[\"abs_value\"] = df_lr_cv[\"coef\"].apply(lambda x: abs(x))\n",
    "df_lr_cv[\"colors\"] = df_lr_cv[\"coef\"].apply(lambda x: \"blue\" if x > 0 else \"red\")\n",
    "df_lr_cv = df_lr_cv.sort_values(\"abs_value\", ascending=False)"
   ]
  },
  {
   "cell_type": "code",
   "execution_count": 16,
   "metadata": {},
   "outputs": [
    {
     "data": {
      "text/plain": [
       "Text(0.5, 0, 'Feature Name')"
      ]
     },
     "execution_count": 16,
     "metadata": {},
     "output_type": "execute_result"
    },
    {
     "data": {
      "image/png": "[encoded data removed]",
      "text/plain": [
       "<Figure size 864x504 with 1 Axes>"
      ]
     },
     "metadata": {
      "needs_background": "light"
     },
     "output_type": "display_data"
    }
   ],
   "source": [
    "fig, ax = plt.subplots(1, 1, figsize=(12, 7))\n",
    "sns.barplot(x=\"feature\",\n",
    "            y=\"coef\",\n",
    "            data=df_lr_cv.head(20),\n",
    "           palette=df_lr_cv.head(20)[\"colors\"])\n",
    "ax.set_xticklabels(ax.get_xticklabels(), rotation=90, fontsize=20)\n",
    "ax.set_title(\"Top 20 Features - LR CVEC\", fontsize=25)\n",
    "ax.set_ylabel(\"Coef\", fontsize=22)\n",
    "ax.set_xlabel(\"Feature Name\", fontsize=22)"
   ]
  },
  {
   "cell_type": "markdown",
   "metadata": {},
   "source": [
    "### Getting Predictions and Confusion Matrix (lr_cv)"
   ]
  },
  {
   "cell_type": "code",
   "execution_count": 17,
   "metadata": {},
   "outputs": [
    {
     "name": "stdout",
     "output_type": "stream",
     "text": [
      "Specificity: 0.9191919191919192\n",
      "Sensitivity: 0.9075907590759076\n"
     ]
    }
   ],
   "source": [
    "#Code from lesson 5.04 modified to fit my needs\n",
    "\n",
    "preds_gs_lr_cv = gs_lr_cv.predict(X_test)\n",
    "\n",
    "tn, fp, fn, tp = confusion_matrix(y_test, preds_gs_lr_cv).ravel()\n",
    "\n",
    "spec = tn / (tn + fp)\n",
    "sens = tp / (tp + fn)\n",
    "\n",
    "print('Specificity:', spec)\n",
    "print('Sensitivity:', sens)"
   ]
  },
  {
   "cell_type": "code",
   "execution_count": 18,
   "metadata": {},
   "outputs": [
    {
     "data": {
      "image/png": "[encoded data removed]",
      "text/plain": [
       "<Figure size 432x288 with 2 Axes>"
      ]
     },
     "metadata": {
      "needs_background": "light"
     },
     "output_type": "display_data"
    }
   ],
   "source": [
    "plot_confusion_matrix(gs_lr_cv, X_test, y_test, cmap='Blues', values_format='d');"
   ]
  },
  {
   "cell_type": "markdown",
   "metadata": {},
   "source": [
    "## M1.2 LogReg with tvec"
   ]
  },
  {
   "cell_type": "code",
   "execution_count": 19,
   "metadata": {},
   "outputs": [],
   "source": [
    "## Code from 5.04 modified to fit needs\n",
    "pipe_lr_tv = Pipeline([\n",
    "    ('tvec', TfidfVectorizer()),\n",
    "    ('log_reg', LogisticRegression(solver='liblinear'))\n",
    "])\n",
    "\n",
    "pipe_lr_tv_params = {\n",
    "    'tvec__max_features': [2_000, 3_000, 4_000, 5_000],\n",
    "    'tvec__stop_words': [None, 'english', my_stopwords2],\n",
    "    'tvec__ngram_range': [(1,1), (1,2)]\n",
    "}\n",
    "pipe_lr_tv.fit(X_train, y_train)\n",
    "gs_lr_tv = GridSearchCV(pipe_lr_tv, \n",
    "                        param_grid = pipe_lr_tv_params, \n",
    "                        cv=5)\n",
    "\n",
    "gs_lr_tv.fit(X_train, y_train);"
   ]
  },
  {
   "cell_type": "code",
   "execution_count": 20,
   "metadata": {},
   "outputs": [
    {
     "name": "stdout",
     "output_type": "stream",
     "text": [
      "0.8822222222222222\n"
     ]
    },
    {
     "data": {
      "text/plain": [
       "{'tvec__max_features': 2000,\n",
       " 'tvec__ngram_range': (1, 1),\n",
       " 'tvec__stop_words': 'english'}"
      ]
     },
     "execution_count": 20,
     "metadata": {},
     "output_type": "execute_result"
    }
   ],
   "source": [
    "print(gs_lr_tv.best_score_)\n",
    "gs_lr_tv.best_params_"
   ]
  },
  {
   "cell_type": "code",
   "execution_count": 21,
   "metadata": {},
   "outputs": [
    {
     "name": "stdout",
     "output_type": "stream",
     "text": [
      "gs_lr_tv train score: 0.9561111111111111\n",
      "gs_lr_tv test score: 0.9083333333333333\n"
     ]
    }
   ],
   "source": [
    "print(f'gs_lr_tv train score: {gs_lr_tv.score(X_train, y_train)}')\n",
    "print(f'gs_lr_tv test score: {gs_lr_tv.score(X_test, y_test)}')"
   ]
  },
  {
   "cell_type": "markdown",
   "metadata": {},
   "source": [
    "### Visualizing the Most Important Words"
   ]
  },
  {
   "cell_type": "code",
   "execution_count": 22,
   "metadata": {},
   "outputs": [],
   "source": [
    "feat_lr_tv = pipe_lr_tv.named_steps['tvec'].get_feature_names()\n",
    "\n",
    "coefs_lr_tv = pipe_lr_tv.named_steps['log_reg'].coef_.flatten()\n",
    "\n",
    "zip_lr_tv = zip(feat_lr_tv, coefs_lr_tv)\n",
    "df_lr_tv = pd.DataFrame(zip_lr_tv, columns=[\"feature\", \"coef\"])\n",
    "\n",
    "df_lr_tv[\"abs_value\"] = df_lr_tv[\"coef\"].apply(lambda x: abs(x))\n",
    "df_lr_tv[\"colors\"] = df_lr_tv[\"coef\"].apply(lambda x: \"blue\" if x > 0 else \"red\")\n",
    "df_lr_tv = df_lr_tv.sort_values(\"abs_value\", ascending=False)"
   ]
  },
  {
   "cell_type": "code",
   "execution_count": 23,
   "metadata": {},
   "outputs": [],
   "source": [
    "df_lr_tv.to_csv('./data/df_lr_tvd.csv', index = False)"
   ]
  },
  {
   "cell_type": "code",
   "execution_count": 24,
   "metadata": {},
   "outputs": [
    {
     "data": {
      "text/plain": [
       "Text(0.5, 0, 'Feature Name')"
      ]
     },
     "execution_count": 24,
     "metadata": {},
     "output_type": "execute_result"
    },
    {
     "data": {
      "image/png": "[encoded data removed]",
      "text/plain": [
       "<Figure size 864x504 with 1 Axes>"
      ]
     },
     "metadata": {
      "needs_background": "light"
     },
     "output_type": "display_data"
    }
   ],
   "source": [
    "fig, ax = plt.subplots(1, 1, figsize=(12, 7))\n",
    "sns.barplot(x=\"feature\",\n",
    "            y=\"coef\",\n",
    "            data=df_lr_tv.head(30),\n",
    "           palette=df_lr_tv.head(30)[\"colors\"])\n",
    "ax.set_xticklabels(ax.get_xticklabels(), rotation=90, fontsize=20)\n",
    "ax.set_title(\"Top 30 Features - LR TVEC\", fontsize=25)\n",
    "ax.set_ylabel(\"Coef\", fontsize=22)\n",
    "ax.set_xlabel(\"Feature Name\", fontsize=22)"
   ]
  },
  {
   "cell_type": "markdown",
   "metadata": {},
   "source": [
    "### Getting predictions and Confusion Matrix (lr_tv)"
   ]
  },
  {
   "cell_type": "code",
   "execution_count": 26,
   "metadata": {},
   "outputs": [],
   "source": [
    "#Code from lesson 5.04 modified to fit my needs\n",
    "\n",
    "preds_gs_lr_tv = gs_lr_tv.predict(X_test)\n",
    "\n",
    "tn, fp, fn, tp = confusion_matrix(y_test, preds_gs_lr_tv).ravel()\n",
    "\n",
    "spec = tn / (tn + fp)\n",
    "sens = tp / (tp + fn)\n",
    "\n",
    "print('Specificity:', spec)\n",
    "print('Sensitivity:', sens)\n",
    "\n",
    "plot_confusion_matrix(gs_lr_tv, X_test, y_test, cmap='Greens', values_format='d');"
   ]
  },
  {
   "cell_type": "markdown",
   "metadata": {},
   "source": [
    "# Model 2: Multinomial Bayes pipeline with Grid Search"
   ]
  },
  {
   "cell_type": "markdown",
   "metadata": {},
   "source": [
    "Below we have two Multinomial Bayes models, both in pipelines with gridsearch. The first uses CountVector vectorized data and the other uses Tfidf vectorized data. Both performed extremely well in comparison to baseline and far exceeded expectations given the potential for misdiagnosis of these two disorders.\n",
    "\n",
    "Both models were overfit, although not substantially so and in fact, these two models exhibited the least overfitting of any of the models. However there was a slight downtick in accuracy and therefore neither one was chosen as the production model."
   ]
  },
  {
   "cell_type": "markdown",
   "metadata": {},
   "source": [
    "## M2.1 Multinomial Bayes with cvec and Grid Search"
   ]
  },
  {
   "cell_type": "code",
   "execution_count": 27,
   "metadata": {},
   "outputs": [],
   "source": [
    "## Code from 5.04 modified to fit needs\n",
    "pipe_nb_cv = Pipeline([\n",
    "    ('cvec', CountVectorizer()),\n",
    "    ('nb', MultinomialNB())\n",
    "])\n",
    "\n",
    "pipe_nb_cv_params = {\n",
    "    'cvec__max_features': [2_000, 3_000, 4_000, 5_000],\n",
    "    'cvec__stop_words': [None, 'english', my_stopwords2],\n",
    "    'cvec__ngram_range': [(1,1), (1,2)]\n",
    "}\n",
    "\n",
    "pipe_nb_cv.fit(X_train, y_train)\n",
    "\n",
    "gs_nb_cv = GridSearchCV(pipe_nb_cv, \n",
    "                        param_grid = pipe_nb_cv_params, \n",
    "                        cv=5)\n",
    "\n",
    "gs_nb_cv.fit(X_train, y_train);"
   ]
  },
  {
   "cell_type": "code",
   "execution_count": 28,
   "metadata": {
    "collapsed": true,
    "jupyter": {
     "outputs_hidden": true
    }
   },
   "outputs": [
    {
     "name": "stdout",
     "output_type": "stream",
     "text": [
      "0.8744444444444444\n"
     ]
    },
    {
     "data": {
      "text/plain": [
       "{'cvec__max_features': 2000,\n",
       " 'cvec__ngram_range': (1, 2),\n",
       " 'cvec__stop_words': ['few',\n",
       "  'throughout',\n",
       "  'nine',\n",
       "  'thin',\n",
       "  'this',\n",
       "  'hers',\n",
       "  'either',\n",
       "  'once',\n",
       "  'beforehand',\n",
       "  'interest',\n",
       "  'again',\n",
       "  'fire',\n",
       "  'she',\n",
       "  'up',\n",
       "  'towards',\n",
       "  'sincere',\n",
       "  'all',\n",
       "  'third',\n",
       "  'along',\n",
       "  'mostly',\n",
       "  'still',\n",
       "  'namely',\n",
       "  'a',\n",
       "  'are',\n",
       "  'in',\n",
       "  'de',\n",
       "  'cry',\n",
       "  'not',\n",
       "  'no',\n",
       "  'thus',\n",
       "  'one',\n",
       "  'from',\n",
       "  'been',\n",
       "  'that',\n",
       "  'next',\n",
       "  'which',\n",
       "  'enough',\n",
       "  'couldnt',\n",
       "  'whom',\n",
       "  'describe',\n",
       "  're',\n",
       "  'ever',\n",
       "  'beyond',\n",
       "  'almost',\n",
       "  'such',\n",
       "  'seemed',\n",
       "  'get',\n",
       "  'via',\n",
       "  'always',\n",
       "  'also',\n",
       "  'bill',\n",
       "  'at',\n",
       "  'noone',\n",
       "  'whereafter',\n",
       "  'same',\n",
       "  'back',\n",
       "  'top',\n",
       "  'onto',\n",
       "  'how',\n",
       "  'ten',\n",
       "  'keep',\n",
       "  'seem',\n",
       "  'whoever',\n",
       "  'about',\n",
       "  'sometimes',\n",
       "  'be',\n",
       "  'has',\n",
       "  'might',\n",
       "  'ours',\n",
       "  'anything',\n",
       "  'against',\n",
       "  'me',\n",
       "  'never',\n",
       "  'become',\n",
       "  'herein',\n",
       "  'after',\n",
       "  'nowhere',\n",
       "  'through',\n",
       "  'these',\n",
       "  'whereby',\n",
       "  'now',\n",
       "  'amoungst',\n",
       "  'whether',\n",
       "  'moreover',\n",
       "  'nothing',\n",
       "  'around',\n",
       "  'will',\n",
       "  'yourself',\n",
       "  'co',\n",
       "  'fill',\n",
       "  'nevertheless',\n",
       "  'any',\n",
       "  'do',\n",
       "  'beside',\n",
       "  'each',\n",
       "  'ourselves',\n",
       "  'more',\n",
       "  'under',\n",
       "  'her',\n",
       "  'too',\n",
       "  'hundred',\n",
       "  'perhaps',\n",
       "  'myself',\n",
       "  'etc',\n",
       "  'three',\n",
       "  'himself',\n",
       "  'with',\n",
       "  'who',\n",
       "  'the',\n",
       "  'without',\n",
       "  'i',\n",
       "  'ltd',\n",
       "  'somehow',\n",
       "  'behind',\n",
       "  'neither',\n",
       "  'go',\n",
       "  'wherein',\n",
       "  'were',\n",
       "  'him',\n",
       "  'mine',\n",
       "  'often',\n",
       "  'however',\n",
       "  'while',\n",
       "  'another',\n",
       "  'latterly',\n",
       "  'what',\n",
       "  'otherwise',\n",
       "  'even',\n",
       "  'many',\n",
       "  'last',\n",
       "  'them',\n",
       "  'my',\n",
       "  'an',\n",
       "  'can',\n",
       "  'for',\n",
       "  'herself',\n",
       "  'within',\n",
       "  'themselves',\n",
       "  'thru',\n",
       "  'before',\n",
       "  'although',\n",
       "  'serious',\n",
       "  'someone',\n",
       "  'us',\n",
       "  'some',\n",
       "  'un',\n",
       "  'here',\n",
       "  'where',\n",
       "  'his',\n",
       "  'take',\n",
       "  'our',\n",
       "  'until',\n",
       "  'have',\n",
       "  'by',\n",
       "  'forty',\n",
       "  'system',\n",
       "  'whatever',\n",
       "  'hereafter',\n",
       "  'hereupon',\n",
       "  'put',\n",
       "  'alone',\n",
       "  'anyway',\n",
       "  'latter',\n",
       "  'much',\n",
       "  'call',\n",
       "  'whenever',\n",
       "  'several',\n",
       "  'whither',\n",
       "  'should',\n",
       "  'twenty',\n",
       "  'thereby',\n",
       "  'front',\n",
       "  'down',\n",
       "  'as',\n",
       "  'amongst',\n",
       "  'something',\n",
       "  'seeming',\n",
       "  'cant',\n",
       "  'out',\n",
       "  'everything',\n",
       "  'therefore',\n",
       "  'sixty',\n",
       "  'was',\n",
       "  'yours',\n",
       "  'off',\n",
       "  'or',\n",
       "  'so',\n",
       "  'nobody',\n",
       "  'meanwhile',\n",
       "  'amount',\n",
       "  'give',\n",
       "  'if',\n",
       "  'see',\n",
       "  'further',\n",
       "  'afterwards',\n",
       "  'least',\n",
       "  'find',\n",
       "  'done',\n",
       "  'may',\n",
       "  'less',\n",
       "  'others',\n",
       "  'but',\n",
       "  'empty',\n",
       "  'among',\n",
       "  'eg',\n",
       "  'itself',\n",
       "  'when',\n",
       "  'full',\n",
       "  'hereby',\n",
       "  'only',\n",
       "  'first',\n",
       "  'thereafter',\n",
       "  'together',\n",
       "  'twelve',\n",
       "  'since',\n",
       "  'thereupon',\n",
       "  'very',\n",
       "  'anyhow',\n",
       "  'per',\n",
       "  'nor',\n",
       "  'due',\n",
       "  'most',\n",
       "  'side',\n",
       "  'than',\n",
       "  'across',\n",
       "  'then',\n",
       "  'and',\n",
       "  'six',\n",
       "  'would',\n",
       "  'five',\n",
       "  'both',\n",
       "  'there',\n",
       "  'hasnt',\n",
       "  'found',\n",
       "  'anyone',\n",
       "  'other',\n",
       "  'sometime',\n",
       "  'eleven',\n",
       "  'name',\n",
       "  'except',\n",
       "  'those',\n",
       "  'two',\n",
       "  'four',\n",
       "  'we',\n",
       "  'made',\n",
       "  'thick',\n",
       "  'well',\n",
       "  'inc',\n",
       "  'anywhere',\n",
       "  'could',\n",
       "  'whose',\n",
       "  'though',\n",
       "  'of',\n",
       "  'already',\n",
       "  'else',\n",
       "  'to',\n",
       "  'toward',\n",
       "  'besides',\n",
       "  'everywhere',\n",
       "  'it',\n",
       "  'part',\n",
       "  'somewhere',\n",
       "  'becomes',\n",
       "  'indeed',\n",
       "  'former',\n",
       "  'whence',\n",
       "  'became',\n",
       "  'whole',\n",
       "  'whereas',\n",
       "  'cannot',\n",
       "  'being',\n",
       "  'bottom',\n",
       "  'fifty',\n",
       "  'is',\n",
       "  'your',\n",
       "  'they',\n",
       "  'rather',\n",
       "  'wherever',\n",
       "  'yet',\n",
       "  'because',\n",
       "  'had',\n",
       "  'con',\n",
       "  'am',\n",
       "  'must',\n",
       "  'please',\n",
       "  'formerly',\n",
       "  'whereupon',\n",
       "  'ie',\n",
       "  'thence',\n",
       "  'he',\n",
       "  'you',\n",
       "  'seems',\n",
       "  'becoming',\n",
       "  'why',\n",
       "  'yourselves',\n",
       "  'between',\n",
       "  'elsewhere',\n",
       "  'above',\n",
       "  'own',\n",
       "  'move',\n",
       "  'on',\n",
       "  'upon',\n",
       "  'every',\n",
       "  'mill',\n",
       "  'fifteen',\n",
       "  'none',\n",
       "  'detail',\n",
       "  'eight',\n",
       "  'everyone',\n",
       "  'hence',\n",
       "  'its',\n",
       "  'therein',\n",
       "  'during',\n",
       "  'into',\n",
       "  'over',\n",
       "  'show',\n",
       "  'below',\n",
       "  'their',\n",
       "  'just',\n",
       "  'like',\n",
       "  've',\n",
       "  'don',\n",
       "  'really',\n",
       "  'things',\n",
       "  'deleted',\n",
       "  'feel',\n",
       "  'want',\n",
       "  'years',\n",
       "  'help',\n",
       "  'going',\n",
       "  'make',\n",
       "  'day',\n",
       "  'having',\n",
       "  'bad',\n",
       "  'got',\n",
       "  'way',\n",
       "  \"I'm\",\n",
       "  \"I've\",\n",
       "  \"I'll\",\n",
       "  'n',\n",
       "  't',\n",
       "  's',\n",
       "  'm',\n",
       "  'g',\n",
       "  'll',\n",
       "  \"'ll\",\n",
       "  \"'m\",\n",
       "  \"'ve\",\n",
       "  'ha',\n",
       "  'le',\n",
       "  'thing',\n",
       "  'u',\n",
       "  'wa',\n",
       "  'year']}"
      ]
     },
     "execution_count": 28,
     "metadata": {},
     "output_type": "execute_result"
    }
   ],
   "source": [
    "print(gs_nb_cv.best_score_)\n",
    "gs_nb_cv.best_params_"
   ]
  },
  {
   "cell_type": "code",
   "execution_count": 29,
   "metadata": {},
   "outputs": [
    {
     "name": "stdout",
     "output_type": "stream",
     "text": [
      "gs_nb_cv train score: 0.9122222222222223\n",
      "gs_nb_cv test score: 0.88\n"
     ]
    }
   ],
   "source": [
    "print(f'gs_nb_cv train score: {gs_nb_cv.score(X_train, y_train)}')\n",
    "print(f'gs_nb_cv test score: {gs_nb_cv.score(X_test, y_test)}')"
   ]
  },
  {
   "cell_type": "markdown",
   "metadata": {},
   "source": [
    "### Getting predictions and Confusion Matrix (nb_cv)"
   ]
  },
  {
   "cell_type": "code",
   "execution_count": 30,
   "metadata": {},
   "outputs": [
    {
     "name": "stdout",
     "output_type": "stream",
     "text": [
      "Specificity: 0.9191919191919192\n",
      "Sensitivity: 0.8415841584158416\n"
     ]
    }
   ],
   "source": [
    "#Code from lesson 5.04 modified to fit my needs\n",
    "preds_gs_nb_cv = gs_nb_cv.predict(X_test)\n",
    "\n",
    "tn, fp, fn, tp = confusion_matrix(y_test, preds_gs_nb_cv).ravel()\n",
    "\n",
    "spec = tn / (tn + fp)\n",
    "sens = tp / (tp + fn)\n",
    "\n",
    "print('Specificity:', spec)\n",
    "print('Sensitivity:', sens)"
   ]
  },
  {
   "cell_type": "code",
   "execution_count": 31,
   "metadata": {},
   "outputs": [
    {
     "data": {
      "image/png": "[encoded data removed]",
      "text/plain": [
       "<Figure size 432x288 with 2 Axes>"
      ]
     },
     "metadata": {
      "needs_background": "light"
     },
     "output_type": "display_data"
    }
   ],
   "source": [
    "plot_confusion_matrix(gs_nb_cv, X_test, y_test, cmap='Greens', values_format='d');"
   ]
  },
  {
   "cell_type": "markdown",
   "metadata": {},
   "source": [
    "## M2.2 Multinomial Bayes with GS and Tvec Pipeline"
   ]
  },
  {
   "cell_type": "code",
   "execution_count": 32,
   "metadata": {},
   "outputs": [],
   "source": [
    "## Code from 5.04 modified to fit needs\n",
    "pipe_nb_tv = Pipeline([\n",
    "    ('tvec', TfidfVectorizer()),\n",
    "    ('nb', MultinomialNB())\n",
    "])\n",
    "\n",
    "pipe_nb_tv_params = {\n",
    "    'tvec__max_features': [2_000, 3_000, 4_000, 5_000],\n",
    "    'tvec__stop_words': [None, 'english', my_stopwords2],\n",
    "    'tvec__ngram_range': [(1,1), (1,2)]\n",
    "}\n",
    "\n",
    "pipe_nb_tv.fit(X_train, y_train)\n",
    "\n",
    "gs_nb_tv = GridSearchCV(pipe_nb_tv, \n",
    "                        param_grid = pipe_nb_tv_params, \n",
    "                        cv=5)\n",
    "\n",
    "gs_nb_tv.fit(X_train, y_train);"
   ]
  },
  {
   "cell_type": "code",
   "execution_count": 33,
   "metadata": {
    "collapsed": true,
    "jupyter": {
     "outputs_hidden": true
    }
   },
   "outputs": [
    {
     "name": "stdout",
     "output_type": "stream",
     "text": [
      "0.86\n"
     ]
    },
    {
     "data": {
      "text/plain": [
       "{'tvec__max_features': 2000,\n",
       " 'tvec__ngram_range': (1, 2),\n",
       " 'tvec__stop_words': ['few',\n",
       "  'throughout',\n",
       "  'nine',\n",
       "  'thin',\n",
       "  'this',\n",
       "  'hers',\n",
       "  'either',\n",
       "  'once',\n",
       "  'beforehand',\n",
       "  'interest',\n",
       "  'again',\n",
       "  'fire',\n",
       "  'she',\n",
       "  'up',\n",
       "  'towards',\n",
       "  'sincere',\n",
       "  'all',\n",
       "  'third',\n",
       "  'along',\n",
       "  'mostly',\n",
       "  'still',\n",
       "  'namely',\n",
       "  'a',\n",
       "  'are',\n",
       "  'in',\n",
       "  'de',\n",
       "  'cry',\n",
       "  'not',\n",
       "  'no',\n",
       "  'thus',\n",
       "  'one',\n",
       "  'from',\n",
       "  'been',\n",
       "  'that',\n",
       "  'next',\n",
       "  'which',\n",
       "  'enough',\n",
       "  'couldnt',\n",
       "  'whom',\n",
       "  'describe',\n",
       "  're',\n",
       "  'ever',\n",
       "  'beyond',\n",
       "  'almost',\n",
       "  'such',\n",
       "  'seemed',\n",
       "  'get',\n",
       "  'via',\n",
       "  'always',\n",
       "  'also',\n",
       "  'bill',\n",
       "  'at',\n",
       "  'noone',\n",
       "  'whereafter',\n",
       "  'same',\n",
       "  'back',\n",
       "  'top',\n",
       "  'onto',\n",
       "  'how',\n",
       "  'ten',\n",
       "  'keep',\n",
       "  'seem',\n",
       "  'whoever',\n",
       "  'about',\n",
       "  'sometimes',\n",
       "  'be',\n",
       "  'has',\n",
       "  'might',\n",
       "  'ours',\n",
       "  'anything',\n",
       "  'against',\n",
       "  'me',\n",
       "  'never',\n",
       "  'become',\n",
       "  'herein',\n",
       "  'after',\n",
       "  'nowhere',\n",
       "  'through',\n",
       "  'these',\n",
       "  'whereby',\n",
       "  'now',\n",
       "  'amoungst',\n",
       "  'whether',\n",
       "  'moreover',\n",
       "  'nothing',\n",
       "  'around',\n",
       "  'will',\n",
       "  'yourself',\n",
       "  'co',\n",
       "  'fill',\n",
       "  'nevertheless',\n",
       "  'any',\n",
       "  'do',\n",
       "  'beside',\n",
       "  'each',\n",
       "  'ourselves',\n",
       "  'more',\n",
       "  'under',\n",
       "  'her',\n",
       "  'too',\n",
       "  'hundred',\n",
       "  'perhaps',\n",
       "  'myself',\n",
       "  'etc',\n",
       "  'three',\n",
       "  'himself',\n",
       "  'with',\n",
       "  'who',\n",
       "  'the',\n",
       "  'without',\n",
       "  'i',\n",
       "  'ltd',\n",
       "  'somehow',\n",
       "  'behind',\n",
       "  'neither',\n",
       "  'go',\n",
       "  'wherein',\n",
       "  'were',\n",
       "  'him',\n",
       "  'mine',\n",
       "  'often',\n",
       "  'however',\n",
       "  'while',\n",
       "  'another',\n",
       "  'latterly',\n",
       "  'what',\n",
       "  'otherwise',\n",
       "  'even',\n",
       "  'many',\n",
       "  'last',\n",
       "  'them',\n",
       "  'my',\n",
       "  'an',\n",
       "  'can',\n",
       "  'for',\n",
       "  'herself',\n",
       "  'within',\n",
       "  'themselves',\n",
       "  'thru',\n",
       "  'before',\n",
       "  'although',\n",
       "  'serious',\n",
       "  'someone',\n",
       "  'us',\n",
       "  'some',\n",
       "  'un',\n",
       "  'here',\n",
       "  'where',\n",
       "  'his',\n",
       "  'take',\n",
       "  'our',\n",
       "  'until',\n",
       "  'have',\n",
       "  'by',\n",
       "  'forty',\n",
       "  'system',\n",
       "  'whatever',\n",
       "  'hereafter',\n",
       "  'hereupon',\n",
       "  'put',\n",
       "  'alone',\n",
       "  'anyway',\n",
       "  'latter',\n",
       "  'much',\n",
       "  'call',\n",
       "  'whenever',\n",
       "  'several',\n",
       "  'whither',\n",
       "  'should',\n",
       "  'twenty',\n",
       "  'thereby',\n",
       "  'front',\n",
       "  'down',\n",
       "  'as',\n",
       "  'amongst',\n",
       "  'something',\n",
       "  'seeming',\n",
       "  'cant',\n",
       "  'out',\n",
       "  'everything',\n",
       "  'therefore',\n",
       "  'sixty',\n",
       "  'was',\n",
       "  'yours',\n",
       "  'off',\n",
       "  'or',\n",
       "  'so',\n",
       "  'nobody',\n",
       "  'meanwhile',\n",
       "  'amount',\n",
       "  'give',\n",
       "  'if',\n",
       "  'see',\n",
       "  'further',\n",
       "  'afterwards',\n",
       "  'least',\n",
       "  'find',\n",
       "  'done',\n",
       "  'may',\n",
       "  'less',\n",
       "  'others',\n",
       "  'but',\n",
       "  'empty',\n",
       "  'among',\n",
       "  'eg',\n",
       "  'itself',\n",
       "  'when',\n",
       "  'full',\n",
       "  'hereby',\n",
       "  'only',\n",
       "  'first',\n",
       "  'thereafter',\n",
       "  'together',\n",
       "  'twelve',\n",
       "  'since',\n",
       "  'thereupon',\n",
       "  'very',\n",
       "  'anyhow',\n",
       "  'per',\n",
       "  'nor',\n",
       "  'due',\n",
       "  'most',\n",
       "  'side',\n",
       "  'than',\n",
       "  'across',\n",
       "  'then',\n",
       "  'and',\n",
       "  'six',\n",
       "  'would',\n",
       "  'five',\n",
       "  'both',\n",
       "  'there',\n",
       "  'hasnt',\n",
       "  'found',\n",
       "  'anyone',\n",
       "  'other',\n",
       "  'sometime',\n",
       "  'eleven',\n",
       "  'name',\n",
       "  'except',\n",
       "  'those',\n",
       "  'two',\n",
       "  'four',\n",
       "  'we',\n",
       "  'made',\n",
       "  'thick',\n",
       "  'well',\n",
       "  'inc',\n",
       "  'anywhere',\n",
       "  'could',\n",
       "  'whose',\n",
       "  'though',\n",
       "  'of',\n",
       "  'already',\n",
       "  'else',\n",
       "  'to',\n",
       "  'toward',\n",
       "  'besides',\n",
       "  'everywhere',\n",
       "  'it',\n",
       "  'part',\n",
       "  'somewhere',\n",
       "  'becomes',\n",
       "  'indeed',\n",
       "  'former',\n",
       "  'whence',\n",
       "  'became',\n",
       "  'whole',\n",
       "  'whereas',\n",
       "  'cannot',\n",
       "  'being',\n",
       "  'bottom',\n",
       "  'fifty',\n",
       "  'is',\n",
       "  'your',\n",
       "  'they',\n",
       "  'rather',\n",
       "  'wherever',\n",
       "  'yet',\n",
       "  'because',\n",
       "  'had',\n",
       "  'con',\n",
       "  'am',\n",
       "  'must',\n",
       "  'please',\n",
       "  'formerly',\n",
       "  'whereupon',\n",
       "  'ie',\n",
       "  'thence',\n",
       "  'he',\n",
       "  'you',\n",
       "  'seems',\n",
       "  'becoming',\n",
       "  'why',\n",
       "  'yourselves',\n",
       "  'between',\n",
       "  'elsewhere',\n",
       "  'above',\n",
       "  'own',\n",
       "  'move',\n",
       "  'on',\n",
       "  'upon',\n",
       "  'every',\n",
       "  'mill',\n",
       "  'fifteen',\n",
       "  'none',\n",
       "  'detail',\n",
       "  'eight',\n",
       "  'everyone',\n",
       "  'hence',\n",
       "  'its',\n",
       "  'therein',\n",
       "  'during',\n",
       "  'into',\n",
       "  'over',\n",
       "  'show',\n",
       "  'below',\n",
       "  'their',\n",
       "  'just',\n",
       "  'like',\n",
       "  've',\n",
       "  'don',\n",
       "  'really',\n",
       "  'things',\n",
       "  'deleted',\n",
       "  'feel',\n",
       "  'want',\n",
       "  'years',\n",
       "  'help',\n",
       "  'going',\n",
       "  'make',\n",
       "  'day',\n",
       "  'having',\n",
       "  'bad',\n",
       "  'got',\n",
       "  'way',\n",
       "  \"I'm\",\n",
       "  \"I've\",\n",
       "  \"I'll\",\n",
       "  'n',\n",
       "  't',\n",
       "  's',\n",
       "  'm',\n",
       "  'g',\n",
       "  'll',\n",
       "  \"'ll\",\n",
       "  \"'m\",\n",
       "  \"'ve\",\n",
       "  'ha',\n",
       "  'le',\n",
       "  'thing',\n",
       "  'u',\n",
       "  'wa',\n",
       "  'year']}"
      ]
     },
     "execution_count": 33,
     "metadata": {},
     "output_type": "execute_result"
    }
   ],
   "source": [
    "print(gs_nb_tv.best_score_)\n",
    "gs_nb_tv.best_params_"
   ]
  },
  {
   "cell_type": "code",
   "execution_count": 34,
   "metadata": {},
   "outputs": [
    {
     "name": "stdout",
     "output_type": "stream",
     "text": [
      "gs_nb_tv train score: 0.9261111111111111\n",
      "gs_nb_tv test score: 0.87\n"
     ]
    }
   ],
   "source": [
    "print(f'gs_nb_tv train score: {gs_nb_tv.score(X_train, y_train)}')\n",
    "print(f'gs_nb_tv test score: {gs_nb_tv.score(X_test, y_test)}')"
   ]
  },
  {
   "cell_type": "markdown",
   "metadata": {},
   "source": [
    "### Confusion Matrix (nb_tv)"
   ]
  },
  {
   "cell_type": "code",
   "execution_count": 35,
   "metadata": {},
   "outputs": [
    {
     "name": "stdout",
     "output_type": "stream",
     "text": [
      "Specificity: 0.9259259259259259\n",
      "Sensitivity: 0.8151815181518152\n"
     ]
    }
   ],
   "source": [
    "#Code from lesson 5.04 modified to fit my needs\n",
    "preds_gs_nb_tv = gs_nb_tv.predict(X_test)\n",
    "\n",
    "tn, fp, fn, tp = confusion_matrix(y_test, preds_gs_nb_tv).ravel()\n",
    "\n",
    "spec = tn / (tn + fp)\n",
    "sens = tp / (tp + fn)\n",
    "\n",
    "print('Specificity:', spec)\n",
    "print('Sensitivity:', sens)"
   ]
  },
  {
   "cell_type": "code",
   "execution_count": 36,
   "metadata": {},
   "outputs": [
    {
     "data": {
      "image/png": "[encoded data removed]",
      "text/plain": [
       "<Figure size 432x288 with 2 Axes>"
      ]
     },
     "metadata": {
      "needs_background": "light"
     },
     "output_type": "display_data"
    }
   ],
   "source": [
    "plot_confusion_matrix(gs_nb_tv, X_test, y_test, cmap='Blues', values_format='d');"
   ]
  },
  {
   "cell_type": "markdown",
   "metadata": {},
   "source": [
    "# Model 3: Random Forest with Gridsearch"
   ]
  },
  {
   "cell_type": "markdown",
   "metadata": {},
   "source": [
    "Below we have two Random Forest models, both in pipelines with gridsearch. The first uses CountVector vectorized data and the other uses Tfidf vectorized data. Both performed extremely well in comparison to baseline and far exceeded expectations given the potential for misdiagnosis of these two disorders.\n",
    "\n",
    "Both models were significantly overfit, the most of any model in the project, however they did have test accuracy roughly comparable to the logreg models. They were not chosen as production model because of the overfitting problem."
   ]
  },
  {
   "cell_type": "markdown",
   "metadata": {},
   "source": [
    "## 3.1 Random Forest with cvec and Gridsearch"
   ]
  },
  {
   "cell_type": "code",
   "execution_count": 37,
   "metadata": {},
   "outputs": [],
   "source": [
    "## Code from 5.04 modified to fit needs\n",
    "pipe_rf_cv = Pipeline([\n",
    "    ('cvec', CountVectorizer()),\n",
    "    ('rf', RandomForestClassifier())\n",
    "])\n",
    "\n",
    "pipe_rf_cv_params = {\n",
    "    'cvec__max_features': [2_000, 3_000, 4_000, 5_000],\n",
    "    'cvec__stop_words': [None, 'english', my_stopwords2],\n",
    "    'cvec__ngram_range': [(1,1), (1,2)]\n",
    "}\n",
    "\n",
    "pipe_rf_cv.fit(X_train, y_train)\n",
    "\n",
    "gs_rf_cv = GridSearchCV(pipe_rf_cv, \n",
    "                        param_grid = pipe_rf_cv_params, \n",
    "                        cv=5)\n",
    "\n",
    "gs_rf_cv.fit(X_train, y_train);"
   ]
  },
  {
   "cell_type": "code",
   "execution_count": 38,
   "metadata": {},
   "outputs": [
    {
     "name": "stdout",
     "output_type": "stream",
     "text": [
      "0.8961111111111111\n"
     ]
    },
    {
     "data": {
      "text/plain": [
       "{'cvec__max_features': 4000,\n",
       " 'cvec__ngram_range': (1, 1),\n",
       " 'cvec__stop_words': 'english'}"
      ]
     },
     "execution_count": 38,
     "metadata": {},
     "output_type": "execute_result"
    }
   ],
   "source": [
    "print(gs_rf_cv.best_score_)\n",
    "gs_rf_cv.best_params_"
   ]
  },
  {
   "cell_type": "code",
   "execution_count": 39,
   "metadata": {},
   "outputs": [
    {
     "name": "stdout",
     "output_type": "stream",
     "text": [
      "gs_rf_cv train score: 1.0\n",
      "gs_rf_cv test score: 0.8916666666666667\n"
     ]
    }
   ],
   "source": [
    "print(f'gs_rf_cv train score: {gs_rf_cv.score(X_train, y_train)}')\n",
    "print(f'gs_rf_cv test score: {gs_rf_cv.score(X_test, y_test)}')"
   ]
  },
  {
   "cell_type": "markdown",
   "metadata": {},
   "source": [
    "### Getting Predictions and Confusion Matrix (rf_cv)"
   ]
  },
  {
   "cell_type": "code",
   "execution_count": 40,
   "metadata": {},
   "outputs": [
    {
     "name": "stdout",
     "output_type": "stream",
     "text": [
      "Specificity: 0.9225589225589226\n",
      "Sensitivity: 0.8613861386138614\n"
     ]
    }
   ],
   "source": [
    "#Code from lesson 5.04 modified to fit my needs\n",
    "preds_gs_rf_cv = gs_rf_cv.predict(X_test)\n",
    "\n",
    "tn, fp, fn, tp = confusion_matrix(y_test, preds_gs_rf_cv).ravel()\n",
    "\n",
    "spec = tn / (tn + fp)\n",
    "sens = tp / (tp + fn)\n",
    "\n",
    "print('Specificity:', spec)\n",
    "print('Sensitivity:', sens)"
   ]
  },
  {
   "cell_type": "code",
   "execution_count": 41,
   "metadata": {},
   "outputs": [
    {
     "data": {
      "image/png": "[encoded data removed]",
      "text/plain": [
       "<Figure size 432x288 with 2 Axes>"
      ]
     },
     "metadata": {
      "needs_background": "light"
     },
     "output_type": "display_data"
    }
   ],
   "source": [
    "plot_confusion_matrix(gs_rf_cv, X_test, y_test, cmap='Blues', values_format='d');"
   ]
  },
  {
   "cell_type": "markdown",
   "metadata": {},
   "source": [
    "## 3.2 Random Forest with tvec and Gridsearch"
   ]
  },
  {
   "cell_type": "code",
   "execution_count": 42,
   "metadata": {},
   "outputs": [],
   "source": [
    "## Code from 5.04 modified to fit needs\n",
    "pipe_rf_tv = Pipeline([\n",
    "    ('tvec', TfidfVectorizer()),\n",
    "    ('rf', RandomForestClassifier())\n",
    "])\n",
    "\n",
    "pipe_rf_tv_params = {\n",
    "    'tvec__max_features': [2_000, 3_000, 4_000, 5_000],\n",
    "    'tvec__stop_words': [None, 'english', my_stopwords2],\n",
    "    'tvec__ngram_range': [(1,1), (1,2)]\n",
    "}\n",
    "\n",
    "pipe_rf_tv.fit(X_train, y_train)\n",
    "\n",
    "gs_rf_tv = GridSearchCV(pipe_rf_tv, \n",
    "                        param_grid = pipe_rf_tv_params, \n",
    "                        cv=5)\n",
    "\n",
    "gs_rf_tv.fit(X_train, y_train);"
   ]
  },
  {
   "cell_type": "code",
   "execution_count": 43,
   "metadata": {},
   "outputs": [
    {
     "name": "stdout",
     "output_type": "stream",
     "text": [
      "0.8911111111111112\n"
     ]
    },
    {
     "data": {
      "text/plain": [
       "{'tvec__max_features': 2000,\n",
       " 'tvec__ngram_range': (1, 2),\n",
       " 'tvec__stop_words': 'english'}"
      ]
     },
     "execution_count": 43,
     "metadata": {},
     "output_type": "execute_result"
    }
   ],
   "source": [
    "print(gs_rf_tv.best_score_)\n",
    "gs_rf_tv.best_params_"
   ]
  },
  {
   "cell_type": "code",
   "execution_count": 44,
   "metadata": {},
   "outputs": [
    {
     "name": "stdout",
     "output_type": "stream",
     "text": [
      "gs_rf_tv train score: 0.9972222222222222\n",
      "gs_rf_tv test score: 0.8916666666666667\n"
     ]
    }
   ],
   "source": [
    "print(f'gs_rf_tv train score: {gs_rf_tv.score(X_train, y_train)}')\n",
    "print(f'gs_rf_tv test score: {gs_rf_tv.score(X_test, y_test)}')"
   ]
  },
  {
   "cell_type": "markdown",
   "metadata": {},
   "source": [
    "### Getting Predictions and Confusion Matrix (rf_tv)"
   ]
  },
  {
   "cell_type": "code",
   "execution_count": 45,
   "metadata": {},
   "outputs": [
    {
     "name": "stdout",
     "output_type": "stream",
     "text": [
      "Specificity: 0.9393939393939394\n",
      "Sensitivity: 0.8448844884488449\n"
     ]
    }
   ],
   "source": [
    "#Code from lesson 5.04 modified to fit my needs\n",
    "preds_gs_rf_tv = gs_rf_tv.predict(X_test)\n",
    "\n",
    "tn, fp, fn, tp = confusion_matrix(y_test, preds_gs_rf_tv).ravel()\n",
    "\n",
    "spec = tn / (tn + fp)\n",
    "sens = tp / (tp + fn)\n",
    "\n",
    "print('Specificity:', spec)\n",
    "print('Sensitivity:', sens)"
   ]
  },
  {
   "cell_type": "code",
   "execution_count": 46,
   "metadata": {},
   "outputs": [
    {
     "data": {
      "image/png": "[encoded data removed]",
      "text/plain": [
       "<Figure size 432x288 with 2 Axes>"
      ]
     },
     "metadata": {
      "needs_background": "light"
     },
     "output_type": "display_data"
    }
   ],
   "source": [
    "plot_confusion_matrix(gs_rf_tv, X_test, y_test, cmap='Greens', values_format='d');"
   ]
  },
  {
   "cell_type": "markdown",
   "metadata": {},
   "source": [
    "# 4. Misclassified posts"
   ]
  },
  {
   "cell_type": "markdown",
   "metadata": {},
   "source": [
    "Here we identify misclassified posts and then take the text from these misclassified posts and pass it as optional stopword parameters in the log reg tfidf gridsearch to see if it improves accuracy. (Spoiler alert... it doesn't). \n",
    "\n",
    "Furthermore we do sentiment analsysis on the posts to see if there is a difference between sentiment in these posts and the full dataframe. It doesn't seem like there is. "
   ]
  },
  {
   "cell_type": "code",
   "execution_count": 67,
   "metadata": {},
   "outputs": [],
   "source": [
    "## Worked with Andy to develop this misclassification rubric\n",
    "\n",
    "y_test_df = pd.DataFrame(y_test).copy()\n",
    "\n",
    "X_test_df = pd.DataFrame(X_test).copy()"
   ]
  },
  {
   "cell_type": "code",
   "execution_count": 67,
   "metadata": {},
   "outputs": [],
   "source": [
    "y_test_df['preds'] = preds_gs_lr_tv\n",
    "\n",
    "y_test_df.head()"
   ]
  },
  {
   "cell_type": "code",
   "execution_count": 67,
   "metadata": {},
   "outputs": [],
   "source": [
    "X_test.head()"
   ]
  },
  {
   "cell_type": "code",
   "execution_count": 67,
   "metadata": {},
   "outputs": [],
   "source": [
    "new_df = pd.concat([X_test_df, y_test_df], axis = 1)\n",
    "\n",
    "type(new_df)"
   ]
  },
  {
   "cell_type": "code",
   "execution_count": 67,
   "metadata": {},
   "outputs": [],
   "source": [
    "new_df.head()"
   ]
  },
  {
   "cell_type": "code",
   "execution_count": 67,
   "metadata": {},
   "outputs": [],
   "source": [
    "only_mis = new_df.loc[new_df['preds'] - new_df['subreddit'] != 0]\n",
    "\n",
    "only_mis.head()"
   ]
  },
  {
   "cell_type": "code",
   "execution_count": 69,
   "metadata": {},
   "outputs": [],
   "source": [
    "only_mis_i = only_mis.reset_index()"
   ]
  },
  {
   "cell_type": "markdown",
   "metadata": {},
   "source": [
    "## 4.1 Sentiment Analysis on Misclassified Posts"
   ]
  },
  {
   "cell_type": "code",
   "execution_count": 72,
   "metadata": {},
   "outputs": [],
   "source": [
    "sia = SentimentIntensityAnalyzer()"
   ]
  },
  {
   "cell_type": "code",
   "execution_count": 73,
   "metadata": {},
   "outputs": [],
   "source": [
    "## Code from 5.03 modified to fit my needs\n",
    "scores = []\n",
    "\n",
    "for each in only_mis['combined']:\n",
    "    current_scores = sia.polarity_scores(each)\n",
    "    scores.append(current_scores)"
   ]
  },
  {
   "cell_type": "code",
   "execution_count": 74,
   "metadata": {},
   "outputs": [],
   "source": [
    "scores_df = pd.DataFrame(scores)"
   ]
  },
  {
   "cell_type": "code",
   "execution_count": 75,
   "metadata": {},
   "outputs": [
    {
     "data": {
      "text/plain": [
       "-0.2491690909090909"
      ]
     },
     "execution_count": 75,
     "metadata": {},
     "output_type": "execute_result"
    }
   ],
   "source": [
    "scores_df['compound'].mean()"
   ]
  },
  {
   "cell_type": "code",
   "execution_count": 76,
   "metadata": {},
   "outputs": [
    {
     "data": {
      "text/html": [
       "<div>\n",
       "<style scoped>\n",
       "    .dataframe tbody tr th:only-of-type {\n",
       "        vertical-align: middle;\n",
       "    }\n",
       "\n",
       "    .dataframe tbody tr th {\n",
       "        vertical-align: top;\n",
       "    }\n",
       "\n",
       "    .dataframe thead th {\n",
       "        text-align: right;\n",
       "    }\n",
       "</style>\n",
       "<table border=\"1\" class=\"dataframe\">\n",
       "  <thead>\n",
       "    <tr style=\"text-align: right;\">\n",
       "      <th></th>\n",
       "      <th>neg</th>\n",
       "      <th>neu</th>\n",
       "      <th>pos</th>\n",
       "      <th>compound</th>\n",
       "    </tr>\n",
       "  </thead>\n",
       "  <tbody>\n",
       "    <tr>\n",
       "      <th>0</th>\n",
       "      <td>0.038</td>\n",
       "      <td>0.883</td>\n",
       "      <td>0.079</td>\n",
       "      <td>0.5216</td>\n",
       "    </tr>\n",
       "    <tr>\n",
       "      <th>1</th>\n",
       "      <td>0.346</td>\n",
       "      <td>0.572</td>\n",
       "      <td>0.081</td>\n",
       "      <td>-0.9976</td>\n",
       "    </tr>\n",
       "    <tr>\n",
       "      <th>2</th>\n",
       "      <td>0.218</td>\n",
       "      <td>0.683</td>\n",
       "      <td>0.099</td>\n",
       "      <td>-0.9952</td>\n",
       "    </tr>\n",
       "    <tr>\n",
       "      <th>3</th>\n",
       "      <td>0.064</td>\n",
       "      <td>0.800</td>\n",
       "      <td>0.136</td>\n",
       "      <td>0.8126</td>\n",
       "    </tr>\n",
       "    <tr>\n",
       "      <th>4</th>\n",
       "      <td>0.113</td>\n",
       "      <td>0.823</td>\n",
       "      <td>0.064</td>\n",
       "      <td>-0.5921</td>\n",
       "    </tr>\n",
       "  </tbody>\n",
       "</table>\n",
       "</div>"
      ],
      "text/plain": [
       "     neg    neu    pos  compound\n",
       "0  0.038  0.883  0.079    0.5216\n",
       "1  0.346  0.572  0.081   -0.9976\n",
       "2  0.218  0.683  0.099   -0.9952\n",
       "3  0.064  0.800  0.136    0.8126\n",
       "4  0.113  0.823  0.064   -0.5921"
      ]
     },
     "execution_count": 76,
     "metadata": {},
     "output_type": "execute_result"
    }
   ],
   "source": [
    "scores_df.head()"
   ]
  },
  {
   "cell_type": "code",
   "execution_count": 77,
   "metadata": {},
   "outputs": [],
   "source": [
    "mis_df = only_mis_i.merge(scores_df, left_index =True, right_index=True)"
   ]
  },
  {
   "cell_type": "code",
   "execution_count": 78,
   "metadata": {},
   "outputs": [
    {
     "data": {
      "text/plain": [
       "(55, 8)"
      ]
     },
     "execution_count": 78,
     "metadata": {},
     "output_type": "execute_result"
    }
   ],
   "source": [
    "mis_df.shape"
   ]
  },
  {
   "cell_type": "code",
   "execution_count": 79,
   "metadata": {},
   "outputs": [
    {
     "data": {
      "text/html": [
       "<div>\n",
       "<style scoped>\n",
       "    .dataframe tbody tr th:only-of-type {\n",
       "        vertical-align: middle;\n",
       "    }\n",
       "\n",
       "    .dataframe tbody tr th {\n",
       "        vertical-align: top;\n",
       "    }\n",
       "\n",
       "    .dataframe thead th {\n",
       "        text-align: right;\n",
       "    }\n",
       "</style>\n",
       "<table border=\"1\" class=\"dataframe\">\n",
       "  <thead>\n",
       "    <tr style=\"text-align: right;\">\n",
       "      <th></th>\n",
       "      <th>index</th>\n",
       "      <th>combined</th>\n",
       "      <th>subreddit</th>\n",
       "      <th>preds</th>\n",
       "      <th>neg</th>\n",
       "      <th>neu</th>\n",
       "      <th>pos</th>\n",
       "      <th>compound</th>\n",
       "    </tr>\n",
       "  </thead>\n",
       "  <tbody>\n",
       "    <tr>\n",
       "      <th>0</th>\n",
       "      <td>855</td>\n",
       "      <td>i went to a barbecue today and the ribs were s...</td>\n",
       "      <td>1</td>\n",
       "      <td>0</td>\n",
       "      <td>0.038</td>\n",
       "      <td>0.883</td>\n",
       "      <td>0.079</td>\n",
       "      <td>0.5216</td>\n",
       "    </tr>\n",
       "    <tr>\n",
       "      <th>1</th>\n",
       "      <td>1719</td>\n",
       "      <td>I believe that everyone fears something, wheth...</td>\n",
       "      <td>0</td>\n",
       "      <td>1</td>\n",
       "      <td>0.346</td>\n",
       "      <td>0.572</td>\n",
       "      <td>0.081</td>\n",
       "      <td>-0.9976</td>\n",
       "    </tr>\n",
       "    <tr>\n",
       "      <th>2</th>\n",
       "      <td>111</td>\n",
       "      <td>Hello!\\n\\nToday my SO and I are going to see t...</td>\n",
       "      <td>1</td>\n",
       "      <td>0</td>\n",
       "      <td>0.218</td>\n",
       "      <td>0.683</td>\n",
       "      <td>0.099</td>\n",
       "      <td>-0.9952</td>\n",
       "    </tr>\n",
       "    <tr>\n",
       "      <th>3</th>\n",
       "      <td>1739</td>\n",
       "      <td>I've been on Prozac for about 6-7 months now a...</td>\n",
       "      <td>0</td>\n",
       "      <td>1</td>\n",
       "      <td>0.064</td>\n",
       "      <td>0.800</td>\n",
       "      <td>0.136</td>\n",
       "      <td>0.8126</td>\n",
       "    </tr>\n",
       "    <tr>\n",
       "      <th>4</th>\n",
       "      <td>1196</td>\n",
       "      <td>We have a day long meeting in my team so we we...</td>\n",
       "      <td>1</td>\n",
       "      <td>0</td>\n",
       "      <td>0.113</td>\n",
       "      <td>0.823</td>\n",
       "      <td>0.064</td>\n",
       "      <td>-0.5921</td>\n",
       "    </tr>\n",
       "  </tbody>\n",
       "</table>\n",
       "</div>"
      ],
      "text/plain": [
       "   index                                           combined  subreddit  preds  \\\n",
       "0    855  i went to a barbecue today and the ribs were s...          1      0   \n",
       "1   1719  I believe that everyone fears something, wheth...          0      1   \n",
       "2    111  Hello!\\n\\nToday my SO and I are going to see t...          1      0   \n",
       "3   1739  I've been on Prozac for about 6-7 months now a...          0      1   \n",
       "4   1196  We have a day long meeting in my team so we we...          1      0   \n",
       "\n",
       "     neg    neu    pos  compound  \n",
       "0  0.038  0.883  0.079    0.5216  \n",
       "1  0.346  0.572  0.081   -0.9976  \n",
       "2  0.218  0.683  0.099   -0.9952  \n",
       "3  0.064  0.800  0.136    0.8126  \n",
       "4  0.113  0.823  0.064   -0.5921  "
      ]
     },
     "execution_count": 79,
     "metadata": {},
     "output_type": "execute_result"
    }
   ],
   "source": [
    "mis_df.head()"
   ]
  },
  {
   "cell_type": "code",
   "execution_count": 80,
   "metadata": {},
   "outputs": [
    {
     "data": {
      "text/html": [
       "<div>\n",
       "<style scoped>\n",
       "    .dataframe tbody tr th:only-of-type {\n",
       "        vertical-align: middle;\n",
       "    }\n",
       "\n",
       "    .dataframe tbody tr th {\n",
       "        vertical-align: top;\n",
       "    }\n",
       "\n",
       "    .dataframe thead th {\n",
       "        text-align: right;\n",
       "    }\n",
       "</style>\n",
       "<table border=\"1\" class=\"dataframe\">\n",
       "  <thead>\n",
       "    <tr style=\"text-align: right;\">\n",
       "      <th></th>\n",
       "      <th>index</th>\n",
       "      <th>combined</th>\n",
       "      <th>subreddit</th>\n",
       "      <th>preds</th>\n",
       "      <th>neg</th>\n",
       "      <th>neu</th>\n",
       "      <th>pos</th>\n",
       "      <th>compound</th>\n",
       "    </tr>\n",
       "  </thead>\n",
       "  <tbody>\n",
       "    <tr>\n",
       "      <th>31</th>\n",
       "      <td>926</td>\n",
       "      <td>\\nHi all! My doctor has increased my sertralin...</td>\n",
       "      <td>1</td>\n",
       "      <td>0</td>\n",
       "      <td>0.000</td>\n",
       "      <td>0.648</td>\n",
       "      <td>0.352</td>\n",
       "      <td>0.9215</td>\n",
       "    </tr>\n",
       "    <tr>\n",
       "      <th>53</th>\n",
       "      <td>1043</td>\n",
       "      <td>Hi! Last week I had my first (I think) of what...</td>\n",
       "      <td>1</td>\n",
       "      <td>0</td>\n",
       "      <td>0.056</td>\n",
       "      <td>0.843</td>\n",
       "      <td>0.101</td>\n",
       "      <td>0.8365</td>\n",
       "    </tr>\n",
       "    <tr>\n",
       "      <th>3</th>\n",
       "      <td>1739</td>\n",
       "      <td>I've been on Prozac for about 6-7 months now a...</td>\n",
       "      <td>0</td>\n",
       "      <td>1</td>\n",
       "      <td>0.064</td>\n",
       "      <td>0.800</td>\n",
       "      <td>0.136</td>\n",
       "      <td>0.8126</td>\n",
       "    </tr>\n",
       "    <tr>\n",
       "      <th>13</th>\n",
       "      <td>1310</td>\n",
       "      <td>Saw this today on the freeway and chuckled xD</td>\n",
       "      <td>0</td>\n",
       "      <td>1</td>\n",
       "      <td>0.000</td>\n",
       "      <td>0.455</td>\n",
       "      <td>0.545</td>\n",
       "      <td>0.7351</td>\n",
       "    </tr>\n",
       "    <tr>\n",
       "      <th>5</th>\n",
       "      <td>218</td>\n",
       "      <td>Yes, it’s a dead meme format. No, I don’t giv...</td>\n",
       "      <td>1</td>\n",
       "      <td>0</td>\n",
       "      <td>0.161</td>\n",
       "      <td>0.521</td>\n",
       "      <td>0.318</td>\n",
       "      <td>0.6486</td>\n",
       "    </tr>\n",
       "    <tr>\n",
       "      <th>49</th>\n",
       "      <td>423</td>\n",
       "      <td>It bothers me every time I drive over it; I fe...</td>\n",
       "      <td>1</td>\n",
       "      <td>0</td>\n",
       "      <td>0.069</td>\n",
       "      <td>0.786</td>\n",
       "      <td>0.145</td>\n",
       "      <td>0.6352</td>\n",
       "    </tr>\n",
       "    <tr>\n",
       "      <th>39</th>\n",
       "      <td>889</td>\n",
       "      <td>Hi! Im here to let you know that the Spotify ...</td>\n",
       "      <td>1</td>\n",
       "      <td>0</td>\n",
       "      <td>0.000</td>\n",
       "      <td>0.845</td>\n",
       "      <td>0.155</td>\n",
       "      <td>0.5399</td>\n",
       "    </tr>\n",
       "    <tr>\n",
       "      <th>19</th>\n",
       "      <td>279</td>\n",
       "      <td>Hey guys! I was just wondering if anyone else ...</td>\n",
       "      <td>1</td>\n",
       "      <td>0</td>\n",
       "      <td>0.025</td>\n",
       "      <td>0.929</td>\n",
       "      <td>0.046</td>\n",
       "      <td>0.5255</td>\n",
       "    </tr>\n",
       "    <tr>\n",
       "      <th>0</th>\n",
       "      <td>855</td>\n",
       "      <td>i went to a barbecue today and the ribs were s...</td>\n",
       "      <td>1</td>\n",
       "      <td>0</td>\n",
       "      <td>0.038</td>\n",
       "      <td>0.883</td>\n",
       "      <td>0.079</td>\n",
       "      <td>0.5216</td>\n",
       "    </tr>\n",
       "    <tr>\n",
       "      <th>32</th>\n",
       "      <td>1864</td>\n",
       "      <td>Does anyone take benzos? If so how does it help?</td>\n",
       "      <td>0</td>\n",
       "      <td>1</td>\n",
       "      <td>0.000</td>\n",
       "      <td>0.746</td>\n",
       "      <td>0.254</td>\n",
       "      <td>0.4696</td>\n",
       "    </tr>\n",
       "    <tr>\n",
       "      <th>21</th>\n",
       "      <td>282</td>\n",
       "      <td>Relax, gosh</td>\n",
       "      <td>1</td>\n",
       "      <td>0</td>\n",
       "      <td>0.000</td>\n",
       "      <td>0.256</td>\n",
       "      <td>0.744</td>\n",
       "      <td>0.4404</td>\n",
       "    </tr>\n",
       "    <tr>\n",
       "      <th>37</th>\n",
       "      <td>303</td>\n",
       "      <td>Anyone else going through this,please help Is ...</td>\n",
       "      <td>1</td>\n",
       "      <td>0</td>\n",
       "      <td>0.000</td>\n",
       "      <td>0.881</td>\n",
       "      <td>0.119</td>\n",
       "      <td>0.4019</td>\n",
       "    </tr>\n",
       "    <tr>\n",
       "      <th>16</th>\n",
       "      <td>1402</td>\n",
       "      <td>It's really annoying because I feel like nothi...</td>\n",
       "      <td>0</td>\n",
       "      <td>1</td>\n",
       "      <td>0.219</td>\n",
       "      <td>0.422</td>\n",
       "      <td>0.359</td>\n",
       "      <td>0.3197</td>\n",
       "    </tr>\n",
       "    <tr>\n",
       "      <th>20</th>\n",
       "      <td>1737</td>\n",
       "      <td>But every time you correct a bad thought you a...</td>\n",
       "      <td>0</td>\n",
       "      <td>1</td>\n",
       "      <td>0.181</td>\n",
       "      <td>0.602</td>\n",
       "      <td>0.218</td>\n",
       "      <td>0.2441</td>\n",
       "    </tr>\n",
       "    <tr>\n",
       "      <th>48</th>\n",
       "      <td>360</td>\n",
       "      <td>Hello I see my psych soon and I'm almost sure ...</td>\n",
       "      <td>1</td>\n",
       "      <td>0</td>\n",
       "      <td>0.097</td>\n",
       "      <td>0.723</td>\n",
       "      <td>0.180</td>\n",
       "      <td>0.2426</td>\n",
       "    </tr>\n",
       "  </tbody>\n",
       "</table>\n",
       "</div>"
      ],
      "text/plain": [
       "    index                                           combined  subreddit  \\\n",
       "31    926  \\nHi all! My doctor has increased my sertralin...          1   \n",
       "53   1043  Hi! Last week I had my first (I think) of what...          1   \n",
       "3    1739  I've been on Prozac for about 6-7 months now a...          0   \n",
       "13   1310      Saw this today on the freeway and chuckled xD          0   \n",
       "5     218   Yes, it’s a dead meme format. No, I don’t giv...          1   \n",
       "49    423  It bothers me every time I drive over it; I fe...          1   \n",
       "39    889   Hi! Im here to let you know that the Spotify ...          1   \n",
       "19    279  Hey guys! I was just wondering if anyone else ...          1   \n",
       "0     855  i went to a barbecue today and the ribs were s...          1   \n",
       "32   1864   Does anyone take benzos? If so how does it help?          0   \n",
       "21    282                                        Relax, gosh          1   \n",
       "37    303  Anyone else going through this,please help Is ...          1   \n",
       "16   1402  It's really annoying because I feel like nothi...          0   \n",
       "20   1737  But every time you correct a bad thought you a...          0   \n",
       "48    360  Hello I see my psych soon and I'm almost sure ...          1   \n",
       "\n",
       "    preds    neg    neu    pos  compound  \n",
       "31      0  0.000  0.648  0.352    0.9215  \n",
       "53      0  0.056  0.843  0.101    0.8365  \n",
       "3       1  0.064  0.800  0.136    0.8126  \n",
       "13      1  0.000  0.455  0.545    0.7351  \n",
       "5       0  0.161  0.521  0.318    0.6486  \n",
       "49      0  0.069  0.786  0.145    0.6352  \n",
       "39      0  0.000  0.845  0.155    0.5399  \n",
       "19      0  0.025  0.929  0.046    0.5255  \n",
       "0       0  0.038  0.883  0.079    0.5216  \n",
       "32      1  0.000  0.746  0.254    0.4696  \n",
       "21      0  0.000  0.256  0.744    0.4404  \n",
       "37      0  0.000  0.881  0.119    0.4019  \n",
       "16      1  0.219  0.422  0.359    0.3197  \n",
       "20      1  0.181  0.602  0.218    0.2441  \n",
       "48      0  0.097  0.723  0.180    0.2426  "
      ]
     },
     "execution_count": 80,
     "metadata": {},
     "output_type": "execute_result"
    }
   ],
   "source": [
    "mis_df.sort_values(by='compound', ascending=False).head(15)"
   ]
  },
  {
   "cell_type": "code",
   "execution_count": 81,
   "metadata": {},
   "outputs": [],
   "source": [
    "mis_df['index'] = mis_df['index'].astype('str')"
   ]
  },
  {
   "cell_type": "markdown",
   "metadata": {},
   "source": [
    "#### Plotting misclassified 'compound' sentiment analysis"
   ]
  },
  {
   "cell_type": "code",
   "execution_count": 82,
   "metadata": {},
   "outputs": [
    {
     "data": {
      "text/plain": [
       "<BarContainer object of 55 artists>"
      ]
     },
     "execution_count": 82,
     "metadata": {},
     "output_type": "execute_result"
    },
    {
     "data": {
      "image/png": "[encoded data removed]",
      "text/plain": [
       "<Figure size 432x288 with 1 Axes>"
      ]
     },
     "metadata": {
      "needs_background": "light"
     },
     "output_type": "display_data"
    }
   ],
   "source": [
    "plt.bar(mis_df['index'], mis_df['compound'].sort_values(ascending=False))"
   ]
  },
  {
   "cell_type": "markdown",
   "metadata": {},
   "source": [
    "## 4.2 Most Common Misclassified Words"
   ]
  },
  {
   "cell_type": "code",
   "execution_count": 83,
   "metadata": {},
   "outputs": [],
   "source": [
    "#Code from lesson 5.04 modified to fit my needs\n",
    "my_stopwords2 = list(CountVectorizer(stop_words = 'english').get_stop_words()) + ['just', 'like', 've', 'don','really', 'things', 'deleted', 'feel', 'want', 'years', 'help', 'going', 'make', 'day', 'having', 'bad', 'got', 'way', \"I'm\", \"I've\", \"I'll\", 'n', 't', 's', 'm', 'g', 'll']"
   ]
  },
  {
   "cell_type": "code",
   "execution_count": 84,
   "metadata": {},
   "outputs": [],
   "source": [
    "cvec = CountVectorizer(stop_words = my_stopwords2)\n",
    "\n",
    "x = mis_df['combined']\n",
    "\n",
    "cvec.fit(x)\n",
    "z = cvec.transform(x)\n",
    "z_df = pd.DataFrame(z.todense(), columns = cvec.get_feature_names())"
   ]
  },
  {
   "cell_type": "code",
   "execution_count": 85,
   "metadata": {},
   "outputs": [
    {
     "data": {
      "text/html": [
       "<div>\n",
       "<style scoped>\n",
       "    .dataframe tbody tr th:only-of-type {\n",
       "        vertical-align: middle;\n",
       "    }\n",
       "\n",
       "    .dataframe tbody tr th {\n",
       "        vertical-align: top;\n",
       "    }\n",
       "\n",
       "    .dataframe thead th {\n",
       "        text-align: right;\n",
       "    }\n",
       "</style>\n",
       "<table border=\"1\" class=\"dataframe\">\n",
       "  <thead>\n",
       "    <tr style=\"text-align: right;\">\n",
       "      <th></th>\n",
       "      <th>0</th>\n",
       "    </tr>\n",
       "  </thead>\n",
       "  <tbody>\n",
       "    <tr>\n",
       "      <th>know</th>\n",
       "      <td>29</td>\n",
       "    </tr>\n",
       "    <tr>\n",
       "      <th>anxiety</th>\n",
       "      <td>27</td>\n",
       "    </tr>\n",
       "    <tr>\n",
       "      <th>fear</th>\n",
       "      <td>20</td>\n",
       "    </tr>\n",
       "    <tr>\n",
       "      <th>work</th>\n",
       "      <td>15</td>\n",
       "    </tr>\n",
       "    <tr>\n",
       "      <th>time</th>\n",
       "      <td>13</td>\n",
       "    </tr>\n",
       "    <tr>\n",
       "      <th>started</th>\n",
       "      <td>12</td>\n",
       "    </tr>\n",
       "    <tr>\n",
       "      <th>thought</th>\n",
       "      <td>11</td>\n",
       "    </tr>\n",
       "    <tr>\n",
       "      <th>think</th>\n",
       "      <td>11</td>\n",
       "    </tr>\n",
       "    <tr>\n",
       "      <th>right</th>\n",
       "      <td>11</td>\n",
       "    </tr>\n",
       "    <tr>\n",
       "      <th>people</th>\n",
       "      <td>11</td>\n",
       "    </tr>\n",
       "    <tr>\n",
       "      <th>ocd</th>\n",
       "      <td>11</td>\n",
       "    </tr>\n",
       "    <tr>\n",
       "      <th>life</th>\n",
       "      <td>10</td>\n",
       "    </tr>\n",
       "    <tr>\n",
       "      <th>thoughts</th>\n",
       "      <td>10</td>\n",
       "    </tr>\n",
       "    <tr>\n",
       "      <th>doctor</th>\n",
       "      <td>10</td>\n",
       "    </tr>\n",
       "    <tr>\n",
       "      <th>stop</th>\n",
       "      <td>10</td>\n",
       "    </tr>\n",
       "    <tr>\n",
       "      <th>mind</th>\n",
       "      <td>10</td>\n",
       "    </tr>\n",
       "    <tr>\n",
       "      <th>does</th>\n",
       "      <td>10</td>\n",
       "    </tr>\n",
       "    <tr>\n",
       "      <th>said</th>\n",
       "      <td>10</td>\n",
       "    </tr>\n",
       "    <tr>\n",
       "      <th>sleep</th>\n",
       "      <td>9</td>\n",
       "    </tr>\n",
       "    <tr>\n",
       "      <th>past</th>\n",
       "      <td>9</td>\n",
       "    </tr>\n",
       "  </tbody>\n",
       "</table>\n",
       "</div>"
      ],
      "text/plain": [
       "           0\n",
       "know      29\n",
       "anxiety   27\n",
       "fear      20\n",
       "work      15\n",
       "time      13\n",
       "started   12\n",
       "thought   11\n",
       "think     11\n",
       "right     11\n",
       "people    11\n",
       "ocd       11\n",
       "life      10\n",
       "thoughts  10\n",
       "doctor    10\n",
       "stop      10\n",
       "mind      10\n",
       "does      10\n",
       "said      10\n",
       "sleep      9\n",
       "past       9"
      ]
     },
     "execution_count": 85,
     "metadata": {},
     "output_type": "execute_result"
    }
   ],
   "source": [
    "pd.DataFrame(z_df.sum().sort_values(ascending = False).head(20))"
   ]
  },
  {
   "cell_type": "markdown",
   "metadata": {},
   "source": [
    "#### Plotting most common misclassified words"
   ]
  },
  {
   "cell_type": "code",
   "execution_count": 86,
   "metadata": {},
   "outputs": [
    {
     "data": {
      "text/plain": [
       "<AxesSubplot:>"
      ]
     },
     "execution_count": 86,
     "metadata": {},
     "output_type": "execute_result"
    },
    {
     "data": {
      "image/png": "[encoded data removed]",
      "text/plain": [
       "<Figure size 432x288 with 1 Axes>"
      ]
     },
     "metadata": {
      "needs_background": "light"
     },
     "output_type": "display_data"
    }
   ],
   "source": [
    "z_df.sum().sort_values(ascending = False).head(15).plot(kind='bar')"
   ]
  },
  {
   "cell_type": "markdown",
   "metadata": {},
   "source": [
    "### Making a list of stopwords from misclassified posts"
   ]
  },
  {
   "cell_type": "code",
   "execution_count": null,
   "metadata": {},
   "outputs": [],
   "source": [
    "z_mis = z_df.sum().sort_values(ascending = False)"
   ]
  },
  {
   "cell_type": "code",
   "execution_count": null,
   "metadata": {},
   "outputs": [],
   "source": [
    "z_mis_df = pd.DataFrame(z_mis)"
   ]
  },
  {
   "cell_type": "code",
   "execution_count": null,
   "metadata": {},
   "outputs": [],
   "source": [
    "z_mis_df.reset_index()"
   ]
  },
  {
   "cell_type": "code",
   "execution_count": null,
   "metadata": {},
   "outputs": [],
   "source": [
    "z_l = []\n",
    "for i in z_mis_df.index:\n",
    "    z_l.append(i)"
   ]
  },
  {
   "cell_type": "code",
   "execution_count": null,
   "metadata": {},
   "outputs": [],
   "source": [
    "z_l;"
   ]
  },
  {
   "cell_type": "code",
   "execution_count": null,
   "metadata": {},
   "outputs": [],
   "source": [
    "my_stopwords3 = list(CountVectorizer(stop_words = 'english').get_stop_words()) + ['just', \n",
    "            'like', 've', 'don','really', 'things', 'deleted', 'feel', 'want', 'years', \n",
    "            'help', 'going', 'make', 'day', 'having', 'bad', 'got', 'way', \"I'm\", \"I've\", \"I'll\", \n",
    "            'n', 't', 's', 'm', 'g', 'll', \"'ll\", \"'m\", \"'ve\", 'ha', 'le', 'thing', 'u', 'wa', 'year'] + z_l"
   ]
  },
  {
   "cell_type": "markdown",
   "metadata": {},
   "source": [
    "# Model 4: Logreg tvec with new stopwords as optional params"
   ]
  },
  {
   "cell_type": "markdown",
   "metadata": {},
   "source": [
    "The model fails to beat the accuracy of the original log reg tfidf model and has roughly the same amount of overfitting."
   ]
  },
  {
   "cell_type": "code",
   "execution_count": null,
   "metadata": {},
   "outputs": [],
   "source": [
    "## Code from 5.04 modified to fit needs\n",
    "pipe_lr_tv2 = Pipeline([\n",
    "    ('tvec', TfidfVectorizer()),\n",
    "    ('log_reg', LogisticRegression(solver='liblinear'))\n",
    "])\n",
    "\n",
    "pipe_lr_tv2_params = {\n",
    "    'tvec__max_features': [2_000, 3_000, 4_000, 5_000],\n",
    "    'tvec__stop_words': [None, 'english', my_stopwords3],\n",
    "    'tvec__ngram_range': [(1,1), (1,2)]\n",
    "}\n",
    "pipe_lr_tv2.fit(X_train, y_train)\n",
    "gs_lr_tv2 = GridSearchCV(pipe_lr_tv2, \n",
    "                        param_grid = pipe_lr_tv2_params, \n",
    "                        cv=5)\n",
    "\n",
    "gs_lr_tv2.fit(X_train, y_train);"
   ]
  },
  {
   "cell_type": "code",
   "execution_count": null,
   "metadata": {},
   "outputs": [],
   "source": [
    "print(gs_lr_tv2.best_score_)\n",
    "gs_lr_tv2.best_params_"
   ]
  },
  {
   "cell_type": "code",
   "execution_count": null,
   "metadata": {},
   "outputs": [],
   "source": [
    "print(f'gs_lr_tv train score: {gs_lr_tv2.score(X_train, y_train)}')\n",
    "print(f'gs_lr_tv test score: {gs_lr_tv2.score(X_test, y_test)}')"
   ]
  },
  {
   "cell_type": "markdown",
   "metadata": {},
   "source": [
    "# 5. Export best model as a pickle"
   ]
  },
  {
   "cell_type": "markdown",
   "metadata": {},
   "source": [
    "Here we export the best model (log reg tfidf) to a pickle to use in Notebook 4 where we develop the Streamlit app. "
   ]
  },
  {
   "cell_type": "code",
   "execution_count": null,
   "metadata": {},
   "outputs": [],
   "source": [
    "import pickle"
   ]
  },
  {
   "cell_type": "code",
   "execution_count": null,
   "metadata": {},
   "outputs": [],
   "source": [
    "with open('./models/ocd_pipe.pkl', 'wb') as pickle_out:\n",
    "    pickle_out = pickle.dump(pipe_lr_tv, pickle_out)\n",
    "\n",
    "with open('./models/ocd_pipe.pkl', 'rb') as pickle_in:\n",
    "    pipe = pickle.load(pickle_in)"
   ]
  },
  {
   "cell_type": "code",
   "execution_count": null,
   "metadata": {},
   "outputs": [],
   "source": [
    "pipe.classes_"
   ]
  },
  {
   "cell_type": "code",
   "execution_count": null,
   "metadata": {},
   "outputs": [],
   "source": [
    "pipe.predict(['I am extremely overwhelmed with intrusive ocd thoughts'])"
   ]
  },
  {
   "cell_type": "code",
   "execution_count": null,
   "metadata": {},
   "outputs": [],
   "source": [
    "## Interactive Streamlit"
   ]
  },
  {
   "cell_type": "code",
   "execution_count": null,
   "metadata": {},
   "outputs": [],
   "source": [
    "user_input = input('Enter some text:')\n",
    "prediction = pipe.predict([user_input])[0] \n",
    "\n",
    "print(f'Based on your input it is more likely you have: {prediction}')"
   ]
  },
  {
   "cell_type": "markdown",
   "metadata": {},
   "source": [
    "# 6. Conclusions and further steps"
   ]
  },
  {
   "cell_type": "markdown",
   "metadata": {},
   "source": [
    "Overall, the model selected for production was the log reg with tfidf which had a training score of .956 and testing score of .908. After extensive EDA in Notebook 2 we can make several interesting observations about the data, perhaps most important to the project statement: that the sentiment of each subreddit and the dataframe as a whole was negative. \n",
    "\n",
    "This sets the scene for the Streamlit app based off a pickle from our production model that poses the following question to the user: **'Tell us about your internal mental environment on days/at times when you feel off balance.'** In the Streamlit app we also included a sentiment analysis given that, if this were to be used as pre-assessment in a clinical environment, it may be useful to the caregiver to have information about the overall sentiment of the user's response to the question that led to the non-medical, first-stage diagnosis.\n",
    "\n",
    "In response to the initial problem statement of whether or not we can develop a non-medical, first-step diagnostic tool, the answer is **yes** and we have reasonable grounds to believe it may be fairly accurate for some users. Again, this is non-medical and should not replace guidance from a trained medical professional but it is, perhaps, a benefit to those suffering from what might turn out to be OCD or an Anxiety disorder."
   ]
  },
  {
   "cell_type": "markdown",
   "metadata": {},
   "source": [
    "## Further Steps:"
   ]
  },
  {
   "cell_type": "markdown",
   "metadata": {},
   "source": [
    "There are three steps that stand out as highest priority:\n",
    "\n",
    "    1. Increasing accuracy of the model by training the model on more data, analyzing misclassifications more carefully and implementing more preprocessing tools like lemmatization.\n",
    "   \n",
    "    2. Getting input from users and professionals. it's hard to think of any useful tool or service that should be developed by a single datascientist. Instead, tools hsould be developed with input from the actual users as well as experts in the field. \n",
    "    \n",
    "    3. Further applications: Ideally this is just a start and future tools could analyze free text comments from users in subreddits dedicated to other mental health disorders."
   ]
  },
  {
   "cell_type": "code",
   "execution_count": null,
   "metadata": {},
   "outputs": [],
   "source": []
  }
 ],
 "metadata": {
  "kernelspec": {
   "display_name": "Python 3",
   "language": "python",
   "name": "python3"
  },
  "language_info": {
   "codemirror_mode": {
    "name": "ipython",
    "version": 3
   },
   "file_extension": ".py",
   "mimetype": "text/x-python",
   "name": "python",
   "nbconvert_exporter": "python",
   "pygments_lexer": "ipython3",
   "version": "3.8.5"
  }
 },
 "nbformat": 4,
 "nbformat_minor": 4
}
